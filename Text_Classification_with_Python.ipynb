{
  "nbformat": 4,
  "nbformat_minor": 0,
  "metadata": {
    "colab": {
      "name": "Text_Classification_with_Python.ipynb",
      "provenance": [],
      "collapsed_sections": [
        "a9BPYqunry97",
        "7KMRBJ7zr9HD"
      ],
      "toc_visible": true
    },
    "kernelspec": {
      "name": "python3",
      "display_name": "Python 3"
    }
  },
  "cells": [
    {
      "cell_type": "markdown",
      "metadata": {
        "id": "eF3cTlYmPj-Q"
      },
      "source": [
        "# <font color='#2F4F4F'>AfterWork Data Science: Text Classification with Python - Project</font>"
      ]
    },
    {
      "cell_type": "markdown",
      "metadata": {
        "id": "kLG2VTrnTvYL"
      },
      "source": [
        "## <font color='#2F4F4F'>Step 1. Business Understading </font>"
      ]
    },
    {
      "cell_type": "markdown",
      "metadata": {
        "id": "XecOwPNorl2W"
      },
      "source": [
        "### a) Specifying the Research Question\n",
        "\n",
        "Build a text classification model that classifies a given text input as written in english or in dutch."
      ]
    },
    {
      "cell_type": "markdown",
      "metadata": {
        "id": "J4wfHZwQrs-t"
      },
      "source": [
        "### b) Defining the Metric for Success\n",
        "\n",
        "Build a classification model with an accuracy of score of atleast 85%."
      ]
    },
    {
      "cell_type": "markdown",
      "metadata": {
        "id": "a9BPYqunry97"
      },
      "source": [
        "### c) Understanding the Context \n",
        "\n",
        "You work as a Computational Linguist for a Global firm, collaborating with Engineers and\n",
        "Researchers in Assistant and Research & Machine Intelligence to develop language\n",
        "understanding models that improve our ability to understand and generate natural\n",
        "language."
      ]
    },
    {
      "cell_type": "markdown",
      "metadata": {
        "id": "7KMRBJ7zr9HD"
      },
      "source": [
        "### d) Recording the Experimental Design\n",
        "\n",
        "* Business Understanding\n",
        "* Data Exploration\n",
        "* Data Preparation\n",
        "* Data Modeling and Evaluation\n",
        "* Summary of Findings \n",
        "* Recommendation\n",
        "* Challenges\n"
      ]
    },
    {
      "cell_type": "markdown",
      "metadata": {
        "id": "UtwSX1FmVPtw"
      },
      "source": [
        "## <font color='#2F4F4F'>Step 2. Data Importation</font>"
      ]
    },
    {
      "cell_type": "code",
      "metadata": {
        "id": "jdQLGhWqVRTb",
        "colab": {
          "base_uri": "https://localhost:8080/"
        },
        "outputId": "461dbe87-17b8-4d0e-b4da-e6d20656d320"
      },
      "source": [
        "# Importing the required libraries\n",
        "# ---\n",
        "# \n",
        "import pandas as pd # library for data manipulation\n",
        "import numpy as np  # librariy for scientific computations\n",
        "import re           # regex library to perform text preprocessing\n",
        "import string       # library to work with strings\n",
        "import nltk         # library for natural language processing\n",
        "import scipy        # scientific computing \n",
        "import seaborn as sns # library for data visualisation\n",
        "\n",
        "# to display all columns\n",
        "pd.set_option('display.max.columns', None)\n",
        "\n",
        "# to display the entire contents of a cell\n",
        "pd.set_option('display.max_colwidth', None)\n",
        "\n",
        "# Library for Stop words\n",
        "!pip3 install wordninja\n",
        "!pip3 install textblob\n",
        "import wordninja \n",
        "from textblob import TextBlob\n",
        "\n",
        "nltk.download('stopwords')\n",
        "from nltk.corpus import stopwords\n",
        "stop = stopwords.words('english')\n",
        "\n",
        "# Library for Lemmatization\n",
        "nltk.download('wordnet')\n",
        "from textblob import Word\n",
        "\n",
        "# Library for Noun count\n",
        "nltk.download('punkt')\n",
        "nltk.download('averaged_perceptron_tagger')\n",
        "\n",
        "# Library for TD-IDF\n",
        "from sklearn.feature_extraction.text import TfidfVectorizer \n",
        "\n",
        "# Library for metrics\n",
        "from sklearn.metrics import classification_report, confusion_matrix, accuracy_score"
      ],
      "execution_count": null,
      "outputs": [
        {
          "output_type": "stream",
          "name": "stdout",
          "text": [
            "Collecting wordninja\n",
            "  Downloading wordninja-2.0.0.tar.gz (541 kB)\n",
            "\u001b[?25l\r\u001b[K     |▋                               | 10 kB 23.6 MB/s eta 0:00:01\r\u001b[K     |█▏                              | 20 kB 15.9 MB/s eta 0:00:01\r\u001b[K     |█▉                              | 30 kB 11.1 MB/s eta 0:00:01\r\u001b[K     |██▍                             | 40 kB 9.5 MB/s eta 0:00:01\r\u001b[K     |███                             | 51 kB 5.9 MB/s eta 0:00:01\r\u001b[K     |███▋                            | 61 kB 5.8 MB/s eta 0:00:01\r\u001b[K     |████▎                           | 71 kB 5.8 MB/s eta 0:00:01\r\u001b[K     |████▉                           | 81 kB 6.5 MB/s eta 0:00:01\r\u001b[K     |█████▌                          | 92 kB 6.5 MB/s eta 0:00:01\r\u001b[K     |██████                          | 102 kB 5.5 MB/s eta 0:00:01\r\u001b[K     |██████▋                         | 112 kB 5.5 MB/s eta 0:00:01\r\u001b[K     |███████▎                        | 122 kB 5.5 MB/s eta 0:00:01\r\u001b[K     |███████▉                        | 133 kB 5.5 MB/s eta 0:00:01\r\u001b[K     |████████▌                       | 143 kB 5.5 MB/s eta 0:00:01\r\u001b[K     |█████████                       | 153 kB 5.5 MB/s eta 0:00:01\r\u001b[K     |█████████▊                      | 163 kB 5.5 MB/s eta 0:00:01\r\u001b[K     |██████████▎                     | 174 kB 5.5 MB/s eta 0:00:01\r\u001b[K     |███████████                     | 184 kB 5.5 MB/s eta 0:00:01\r\u001b[K     |███████████▌                    | 194 kB 5.5 MB/s eta 0:00:01\r\u001b[K     |████████████                    | 204 kB 5.5 MB/s eta 0:00:01\r\u001b[K     |████████████▊                   | 215 kB 5.5 MB/s eta 0:00:01\r\u001b[K     |█████████████▎                  | 225 kB 5.5 MB/s eta 0:00:01\r\u001b[K     |██████████████                  | 235 kB 5.5 MB/s eta 0:00:01\r\u001b[K     |██████████████▌                 | 245 kB 5.5 MB/s eta 0:00:01\r\u001b[K     |███████████████▏                | 256 kB 5.5 MB/s eta 0:00:01\r\u001b[K     |███████████████▊                | 266 kB 5.5 MB/s eta 0:00:01\r\u001b[K     |████████████████▍               | 276 kB 5.5 MB/s eta 0:00:01\r\u001b[K     |█████████████████               | 286 kB 5.5 MB/s eta 0:00:01\r\u001b[K     |█████████████████▌              | 296 kB 5.5 MB/s eta 0:00:01\r\u001b[K     |██████████████████▏             | 307 kB 5.5 MB/s eta 0:00:01\r\u001b[K     |██████████████████▊             | 317 kB 5.5 MB/s eta 0:00:01\r\u001b[K     |███████████████████▍            | 327 kB 5.5 MB/s eta 0:00:01\r\u001b[K     |████████████████████            | 337 kB 5.5 MB/s eta 0:00:01\r\u001b[K     |████████████████████▋           | 348 kB 5.5 MB/s eta 0:00:01\r\u001b[K     |█████████████████████▏          | 358 kB 5.5 MB/s eta 0:00:01\r\u001b[K     |█████████████████████▉          | 368 kB 5.5 MB/s eta 0:00:01\r\u001b[K     |██████████████████████▍         | 378 kB 5.5 MB/s eta 0:00:01\r\u001b[K     |███████████████████████         | 389 kB 5.5 MB/s eta 0:00:01\r\u001b[K     |███████████████████████▋        | 399 kB 5.5 MB/s eta 0:00:01\r\u001b[K     |████████████████████████▏       | 409 kB 5.5 MB/s eta 0:00:01\r\u001b[K     |████████████████████████▉       | 419 kB 5.5 MB/s eta 0:00:01\r\u001b[K     |█████████████████████████▍      | 430 kB 5.5 MB/s eta 0:00:01\r\u001b[K     |██████████████████████████      | 440 kB 5.5 MB/s eta 0:00:01\r\u001b[K     |██████████████████████████▋     | 450 kB 5.5 MB/s eta 0:00:01\r\u001b[K     |███████████████████████████▎    | 460 kB 5.5 MB/s eta 0:00:01\r\u001b[K     |███████████████████████████▉    | 471 kB 5.5 MB/s eta 0:00:01\r\u001b[K     |████████████████████████████▍   | 481 kB 5.5 MB/s eta 0:00:01\r\u001b[K     |█████████████████████████████   | 491 kB 5.5 MB/s eta 0:00:01\r\u001b[K     |█████████████████████████████▋  | 501 kB 5.5 MB/s eta 0:00:01\r\u001b[K     |██████████████████████████████▎ | 512 kB 5.5 MB/s eta 0:00:01\r\u001b[K     |██████████████████████████████▉ | 522 kB 5.5 MB/s eta 0:00:01\r\u001b[K     |███████████████████████████████▌| 532 kB 5.5 MB/s eta 0:00:01\r\u001b[K     |████████████████████████████████| 541 kB 5.5 MB/s \n",
            "\u001b[?25hBuilding wheels for collected packages: wordninja\n",
            "  Building wheel for wordninja (setup.py) ... \u001b[?25l\u001b[?25hdone\n",
            "  Created wheel for wordninja: filename=wordninja-2.0.0-py3-none-any.whl size=541551 sha256=4be6d21646df042ff0b41f7039b7f477a27e580d05bf920692f351c1d354dfc5\n",
            "  Stored in directory: /root/.cache/pip/wheels/dd/3f/eb/a2692e3d2b9deb1487b09ba4967dd6920bd5032bfd9ff7acfc\n",
            "Successfully built wordninja\n",
            "Installing collected packages: wordninja\n",
            "Successfully installed wordninja-2.0.0\n",
            "Requirement already satisfied: textblob in /usr/local/lib/python3.7/dist-packages (0.15.3)\n",
            "Requirement already satisfied: nltk>=3.1 in /usr/local/lib/python3.7/dist-packages (from textblob) (3.2.5)\n",
            "Requirement already satisfied: six in /usr/local/lib/python3.7/dist-packages (from nltk>=3.1->textblob) (1.15.0)\n",
            "[nltk_data] Downloading package stopwords to /root/nltk_data...\n",
            "[nltk_data]   Unzipping corpora/stopwords.zip.\n",
            "[nltk_data] Downloading package wordnet to /root/nltk_data...\n",
            "[nltk_data]   Unzipping corpora/wordnet.zip.\n",
            "[nltk_data] Downloading package punkt to /root/nltk_data...\n",
            "[nltk_data]   Unzipping tokenizers/punkt.zip.\n",
            "[nltk_data] Downloading package averaged_perceptron_tagger to\n",
            "[nltk_data]     /root/nltk_data...\n",
            "[nltk_data]   Unzipping taggers/averaged_perceptron_tagger.zip.\n"
          ]
        }
      ]
    },
    {
      "cell_type": "code",
      "metadata": {
        "id": "7i6Tr31PeCK0"
      },
      "source": [
        "# Custom Functions\n",
        "# ---\n",
        "#\n",
        "\n",
        "# Avg. words\n",
        "def avg_word(sentence):\n",
        "  words = sentence.split()\n",
        "  try:\n",
        "    z = (sum(len(word) for word in words)/len(words))\n",
        "  except ZeroDivisionError:\n",
        "    z = 0 \n",
        "  return z\n",
        "\n",
        "# Noun count\n",
        "pos_dic = {\n",
        "    'noun' : ['NN','NNS','NNP','NNPS'],\n",
        "    'pron' : ['PRP','PRP$','WP','WP$'],\n",
        "    'verb' : ['VB','VBD','VBG','VBN','VBP','VBZ'],\n",
        "    'adj' :  ['JJ','JJR','JJS'],\n",
        "    'adv' : ['RB','RBR','RBS','WRB']\n",
        "}\n",
        "\n",
        "def pos_check(x, flag):\n",
        "    cnt = 0\n",
        "    try:\n",
        "        wiki = TextBlob(x)\n",
        "        for tup in wiki.tags:\n",
        "            ppo = list(tup)[1]\n",
        "            if ppo in pos_dic[flag]:\n",
        "                cnt += 1\n",
        "    except:\n",
        "        pass\n",
        "    return cnt\n",
        "\n",
        "# Subjectivity \n",
        "def get_subjectivity(tweet):\n",
        "    try:\n",
        "        textblob = TextBlob(unicode(tweet, 'utf-8'))\n",
        "        subj = textblob.sentiment.subjectivity\n",
        "    except:\n",
        "        subj = 0.0\n",
        "    return subj\n",
        "\n",
        "# Polarity\n",
        "def get_polarity(tweet):\n",
        "    try:\n",
        "        textblob = TextBlob(unicode(tweet, 'utf-8'))\n",
        "        pol = textblob.sentiment.polarity\n",
        "    except:\n",
        "        pol = 0.0\n",
        "    return pol"
      ],
      "execution_count": null,
      "outputs": []
    },
    {
      "cell_type": "code",
      "metadata": {
        "id": "taugd1WVVYBh",
        "colab": {
          "base_uri": "https://localhost:8080/",
          "height": 206
        },
        "outputId": "c7e9da16-f9d9-41de-d583-ee87654c5dc3"
      },
      "source": [
        "# loading and previewing the dataset\n",
        "df = pd.read_csv('http://bit.ly/EnglishNDutchDs') \n",
        "df.sample(5)"
      ],
      "execution_count": null,
      "outputs": [
        {
          "output_type": "execute_result",
          "data": {
            "text/html": [
              "\n",
              "  <div id=\"df-75ca887a-ff2a-4605-a819-a3f0d6c67083\">\n",
              "    <div class=\"colab-df-container\">\n",
              "      <div>\n",
              "<style scoped>\n",
              "    .dataframe tbody tr th:only-of-type {\n",
              "        vertical-align: middle;\n",
              "    }\n",
              "\n",
              "    .dataframe tbody tr th {\n",
              "        vertical-align: top;\n",
              "    }\n",
              "\n",
              "    .dataframe thead th {\n",
              "        text-align: right;\n",
              "    }\n",
              "</style>\n",
              "<table border=\"1\" class=\"dataframe\">\n",
              "  <thead>\n",
              "    <tr style=\"text-align: right;\">\n",
              "      <th></th>\n",
              "      <th>text</th>\n",
              "      <th>label</th>\n",
              "    </tr>\n",
              "  </thead>\n",
              "  <tbody>\n",
              "    <tr>\n",
              "      <th>774</th>\n",
              "      <td>Van oktober tot januari was er in het Gemeentemuseum Den Haag een grote tentoonstelling met</td>\n",
              "      <td>nl</td>\n",
              "    </tr>\n",
              "    <tr>\n",
              "      <th>9</th>\n",
              "      <td>functions a colony Wales the self-governing since six date colonies by years[14] of to six</td>\n",
              "      <td>en</td>\n",
              "    </tr>\n",
              "    <tr>\n",
              "      <th>266</th>\n",
              "      <td>Geitenmelk kan een alternatief zijn voor koemelk. Het bevat alle voedingstoffen die koemelk ook heeft.</td>\n",
              "      <td>nl</td>\n",
              "    </tr>\n",
              "    <tr>\n",
              "      <th>1045</th>\n",
              "      <td>Gilden cultuurpatroon en De die (eerdere) de Boerenbond. het van het antwoord van vond van</td>\n",
              "      <td>nl</td>\n",
              "    </tr>\n",
              "    <tr>\n",
              "      <th>472</th>\n",
              "      <td>Cup; te de spelen vervanger voor finale op Portugees de meteen was spelers</td>\n",
              "      <td>nl</td>\n",
              "    </tr>\n",
              "  </tbody>\n",
              "</table>\n",
              "</div>\n",
              "      <button class=\"colab-df-convert\" onclick=\"convertToInteractive('df-75ca887a-ff2a-4605-a819-a3f0d6c67083')\"\n",
              "              title=\"Convert this dataframe to an interactive table.\"\n",
              "              style=\"display:none;\">\n",
              "        \n",
              "  <svg xmlns=\"http://www.w3.org/2000/svg\" height=\"24px\"viewBox=\"0 0 24 24\"\n",
              "       width=\"24px\">\n",
              "    <path d=\"M0 0h24v24H0V0z\" fill=\"none\"/>\n",
              "    <path d=\"M18.56 5.44l.94 2.06.94-2.06 2.06-.94-2.06-.94-.94-2.06-.94 2.06-2.06.94zm-11 1L8.5 8.5l.94-2.06 2.06-.94-2.06-.94L8.5 2.5l-.94 2.06-2.06.94zm10 10l.94 2.06.94-2.06 2.06-.94-2.06-.94-.94-2.06-.94 2.06-2.06.94z\"/><path d=\"M17.41 7.96l-1.37-1.37c-.4-.4-.92-.59-1.43-.59-.52 0-1.04.2-1.43.59L10.3 9.45l-7.72 7.72c-.78.78-.78 2.05 0 2.83L4 21.41c.39.39.9.59 1.41.59.51 0 1.02-.2 1.41-.59l7.78-7.78 2.81-2.81c.8-.78.8-2.07 0-2.86zM5.41 20L4 18.59l7.72-7.72 1.47 1.35L5.41 20z\"/>\n",
              "  </svg>\n",
              "      </button>\n",
              "      \n",
              "  <style>\n",
              "    .colab-df-container {\n",
              "      display:flex;\n",
              "      flex-wrap:wrap;\n",
              "      gap: 12px;\n",
              "    }\n",
              "\n",
              "    .colab-df-convert {\n",
              "      background-color: #E8F0FE;\n",
              "      border: none;\n",
              "      border-radius: 50%;\n",
              "      cursor: pointer;\n",
              "      display: none;\n",
              "      fill: #1967D2;\n",
              "      height: 32px;\n",
              "      padding: 0 0 0 0;\n",
              "      width: 32px;\n",
              "    }\n",
              "\n",
              "    .colab-df-convert:hover {\n",
              "      background-color: #E2EBFA;\n",
              "      box-shadow: 0px 1px 2px rgba(60, 64, 67, 0.3), 0px 1px 3px 1px rgba(60, 64, 67, 0.15);\n",
              "      fill: #174EA6;\n",
              "    }\n",
              "\n",
              "    [theme=dark] .colab-df-convert {\n",
              "      background-color: #3B4455;\n",
              "      fill: #D2E3FC;\n",
              "    }\n",
              "\n",
              "    [theme=dark] .colab-df-convert:hover {\n",
              "      background-color: #434B5C;\n",
              "      box-shadow: 0px 1px 3px 1px rgba(0, 0, 0, 0.15);\n",
              "      filter: drop-shadow(0px 1px 2px rgba(0, 0, 0, 0.3));\n",
              "      fill: #FFFFFF;\n",
              "    }\n",
              "  </style>\n",
              "\n",
              "      <script>\n",
              "        const buttonEl =\n",
              "          document.querySelector('#df-75ca887a-ff2a-4605-a819-a3f0d6c67083 button.colab-df-convert');\n",
              "        buttonEl.style.display =\n",
              "          google.colab.kernel.accessAllowed ? 'block' : 'none';\n",
              "\n",
              "        async function convertToInteractive(key) {\n",
              "          const element = document.querySelector('#df-75ca887a-ff2a-4605-a819-a3f0d6c67083');\n",
              "          const dataTable =\n",
              "            await google.colab.kernel.invokeFunction('convertToInteractive',\n",
              "                                                     [key], {});\n",
              "          if (!dataTable) return;\n",
              "\n",
              "          const docLinkHtml = 'Like what you see? Visit the ' +\n",
              "            '<a target=\"_blank\" href=https://colab.research.google.com/notebooks/data_table.ipynb>data table notebook</a>'\n",
              "            + ' to learn more about interactive tables.';\n",
              "          element.innerHTML = '';\n",
              "          dataTable['output_type'] = 'display_data';\n",
              "          await google.colab.output.renderOutput(dataTable, element);\n",
              "          const docLink = document.createElement('div');\n",
              "          docLink.innerHTML = docLinkHtml;\n",
              "          element.appendChild(docLink);\n",
              "        }\n",
              "      </script>\n",
              "    </div>\n",
              "  </div>\n",
              "  "
            ],
            "text/plain": [
              "                                                                                                        text  \\\n",
              "774              Van oktober tot januari was er in het Gemeentemuseum Den Haag een grote tentoonstelling met   \n",
              "9                 functions a colony Wales the self-governing since six date colonies by years[14] of to six   \n",
              "266   Geitenmelk kan een alternatief zijn voor koemelk. Het bevat alle voedingstoffen die koemelk ook heeft.   \n",
              "1045              Gilden cultuurpatroon en De die (eerdere) de Boerenbond. het van het antwoord van vond van   \n",
              "472                               Cup; te de spelen vervanger voor finale op Portugees de meteen was spelers   \n",
              "\n",
              "     label  \n",
              "774     nl  \n",
              "9       en  \n",
              "266     nl  \n",
              "1045    nl  \n",
              "472     nl  "
            ]
          },
          "metadata": {},
          "execution_count": 3
        }
      ]
    },
    {
      "cell_type": "markdown",
      "metadata": {
        "id": "JKiQBwQuVd9k"
      },
      "source": [
        "## <font color='#2F4F4F'>Step 3. Data Exploration</font>"
      ]
    },
    {
      "cell_type": "code",
      "metadata": {
        "id": "rKMZcfxGVo3m",
        "colab": {
          "base_uri": "https://localhost:8080/"
        },
        "outputId": "d298a9f7-c0a3-4f9f-f21b-ced3bb14aca5"
      },
      "source": [
        "# check dataset shape\n",
        "df.shape"
      ],
      "execution_count": null,
      "outputs": [
        {
          "output_type": "execute_result",
          "data": {
            "text/plain": [
              "(1069, 2)"
            ]
          },
          "metadata": {},
          "execution_count": 4
        }
      ]
    },
    {
      "cell_type": "markdown",
      "metadata": {
        "id": "k8s9wj4_Vo3r"
      },
      "source": [
        "Our dataset has 1069 records and 2 variables."
      ]
    },
    {
      "cell_type": "code",
      "metadata": {
        "id": "ov8nTc9cVo3t",
        "colab": {
          "base_uri": "https://localhost:8080/"
        },
        "outputId": "962d9d14-22f3-402b-971d-ec86a387c938"
      },
      "source": [
        "# preview variable datatypes\n",
        "df.dtypes"
      ],
      "execution_count": null,
      "outputs": [
        {
          "output_type": "execute_result",
          "data": {
            "text/plain": [
              "text     object\n",
              "label    object\n",
              "dtype: object"
            ]
          },
          "metadata": {},
          "execution_count": 5
        }
      ]
    },
    {
      "cell_type": "markdown",
      "metadata": {
        "id": "COOwPNRPVo3w"
      },
      "source": [
        "Both variables have the data type object. This is fine for the text variable, however for the label, we will need to convert it to a numerical format. We will do this later."
      ]
    },
    {
      "cell_type": "code",
      "metadata": {
        "id": "iE7Ik7ox85g6",
        "colab": {
          "base_uri": "https://localhost:8080/",
          "height": 335
        },
        "outputId": "ae18c815-2590-4a48-c6db-3f903e6324a9"
      },
      "source": [
        "# plotting the distribution of label\n",
        "# ---\n",
        "#\n",
        "sns.countplot(df['label']);"
      ],
      "execution_count": null,
      "outputs": [
        {
          "output_type": "stream",
          "name": "stderr",
          "text": [
            "/usr/local/lib/python3.7/dist-packages/seaborn/_decorators.py:43: FutureWarning: Pass the following variable as a keyword arg: x. From version 0.12, the only valid positional argument will be `data`, and passing other arguments without an explicit keyword will result in an error or misinterpretation.\n",
            "  FutureWarning\n"
          ]
        },
        {
          "output_type": "display_data",
          "data": {
            "image/png": "[encoded data removed]",
            "text/plain": [
              "<Figure size 432x288 with 1 Axes>"
            ]
          },
          "metadata": {
            "needs_background": "light"
          }
        }
      ]
    },
    {
      "cell_type": "code",
      "metadata": {
        "id": "Hv9z0csQX5C9",
        "colab": {
          "base_uri": "https://localhost:8080/"
        },
        "outputId": "62725e47-261f-404f-d778-48b36aa44687"
      },
      "source": [
        "# investigating the label distribution\n",
        "df['label'].value_counts()"
      ],
      "execution_count": null,
      "outputs": [
        {
          "output_type": "execute_result",
          "data": {
            "text/plain": [
              "nl    535\n",
              "en    534\n",
              "Name: label, dtype: int64"
            ]
          },
          "metadata": {},
          "execution_count": 7
        }
      ]
    },
    {
      "cell_type": "markdown",
      "metadata": {
        "id": "ABx4lS8HZDxp"
      },
      "source": [
        "From above, we can see that our dataset is unbalanced thus we will need to sample equal no. of records for each label during data preparation to make a balanced dataset."
      ]
    },
    {
      "cell_type": "markdown",
      "metadata": {
        "id": "iUNbvIvnT7ep"
      },
      "source": [
        "## <font color='#2F4F4F'>Step 4. Data Preparation</font>"
      ]
    },
    {
      "cell_type": "markdown",
      "metadata": {
        "id": "dfbEEtXuWXuo"
      },
      "source": [
        "### <font color='#2F4F4F'>3.1 Data Cleaning</font>"
      ]
    },
    {
      "cell_type": "code",
      "metadata": {
        "id": "iLde07_NVo3w",
        "colab": {
          "base_uri": "https://localhost:8080/"
        },
        "outputId": "e7873a7c-c602-41e0-ab7a-a2e1e280a9f6"
      },
      "source": [
        "# check for duplicates\n",
        "df.duplicated().sum()"
      ],
      "execution_count": null,
      "outputs": [
        {
          "output_type": "execute_result",
          "data": {
            "text/plain": [
              "10"
            ]
          },
          "metadata": {},
          "execution_count": 8
        }
      ]
    },
    {
      "cell_type": "markdown",
      "metadata": {
        "id": "eY9eV5l6V_Xv"
      },
      "source": [
        "There are 10 duplicates. We will need to drop these."
      ]
    },
    {
      "cell_type": "code",
      "metadata": {
        "id": "dQLb6TqVVo3z",
        "colab": {
          "base_uri": "https://localhost:8080/"
        },
        "outputId": "5c3585bd-f680-4aa7-f318-71545a573970"
      },
      "source": [
        "# check for missing values\n",
        "df.isna().sum()"
      ],
      "execution_count": null,
      "outputs": [
        {
          "output_type": "execute_result",
          "data": {
            "text/plain": [
              "text     0\n",
              "label    0\n",
              "dtype: int64"
            ]
          },
          "metadata": {},
          "execution_count": 9
        }
      ]
    },
    {
      "cell_type": "markdown",
      "metadata": {
        "id": "npaYUA7bVo33"
      },
      "source": [
        "No missing values found. "
      ]
    },
    {
      "cell_type": "code",
      "metadata": {
        "id": "qZGm8pnHWGrb",
        "colab": {
          "base_uri": "https://localhost:8080/"
        },
        "outputId": "f6488552-2fd6-406c-ab5e-ce31993ee72e"
      },
      "source": [
        "# dropping our duplicates\n",
        "df = df.drop_duplicates()\n",
        "df.shape"
      ],
      "execution_count": null,
      "outputs": [
        {
          "output_type": "execute_result",
          "data": {
            "text/plain": [
              "(1059, 2)"
            ]
          },
          "metadata": {},
          "execution_count": 10
        }
      ]
    },
    {
      "cell_type": "code",
      "metadata": {
        "id": "P0IQmdGugKGF",
        "colab": {
          "base_uri": "https://localhost:8080/"
        },
        "outputId": "9950ef4a-c4ef-43f8-d393-b3f0044c4bc2"
      },
      "source": [
        "# What values are in our label variable?\n",
        "# ---\n",
        "#\n",
        "df.label.unique()"
      ],
      "execution_count": null,
      "outputs": [
        {
          "output_type": "execute_result",
          "data": {
            "text/plain": [
              "array(['en', 'nl'], dtype=object)"
            ]
          },
          "metadata": {},
          "execution_count": 11
        }
      ]
    },
    {
      "cell_type": "code",
      "metadata": {
        "id": "MzZsUs0FZDRU",
        "colab": {
          "base_uri": "https://localhost:8080/",
          "height": 363
        },
        "outputId": "a0902ba6-6bd8-4ec4-abb7-da4f1494b561"
      },
      "source": [
        "# sampling text with en \n",
        "df_en = df[df[\"label\"] == 'en'] \n",
        "df_en = df_en.sample(200)\n",
        "\n",
        "# sampling text with nl \n",
        "df_nl = df[df[\"label\"] == 'nl'] \n",
        "df_nl = df_nl.sample(200)\n",
        "\n",
        "# combining our dataframes\n",
        "df = pd.concat([df_en, df_nl])\n",
        "df.sample(10)"
      ],
      "execution_count": null,
      "outputs": [
        {
          "output_type": "execute_result",
          "data": {
            "text/html": [
              "\n",
              "  <div id=\"df-f9633033-4e0d-49fe-bbfd-d9d656b09efc\">\n",
              "    <div class=\"colab-df-container\">\n",
              "      <div>\n",
              "<style scoped>\n",
              "    .dataframe tbody tr th:only-of-type {\n",
              "        vertical-align: middle;\n",
              "    }\n",
              "\n",
              "    .dataframe tbody tr th {\n",
              "        vertical-align: top;\n",
              "    }\n",
              "\n",
              "    .dataframe thead th {\n",
              "        text-align: right;\n",
              "    }\n",
              "</style>\n",
              "<table border=\"1\" class=\"dataframe\">\n",
              "  <thead>\n",
              "    <tr style=\"text-align: right;\">\n",
              "      <th></th>\n",
              "      <th>text</th>\n",
              "      <th>label</th>\n",
              "    </tr>\n",
              "  </thead>\n",
              "  <tbody>\n",
              "    <tr>\n",
              "      <th>515</th>\n",
              "      <td>kritiseert hij onder meer de opvatting uit de strafrechtpraktijk, dat in juridische stukken zoals een</td>\n",
              "      <td>nl</td>\n",
              "    </tr>\n",
              "    <tr>\n",
              "      <th>231</th>\n",
              "      <td>its reduced Mahavira.[79] by came 6th from the the of Magadha and BCE, the and</td>\n",
              "      <td>en</td>\n",
              "    </tr>\n",
              "    <tr>\n",
              "      <th>382</th>\n",
              "      <td>april dat de bedroeg, verklaring dan beweerde vermogen zijn aan zijn nauwelijks Hoewel in</td>\n",
              "      <td>nl</td>\n",
              "    </tr>\n",
              "    <tr>\n",
              "      <th>265</th>\n",
              "      <td>Kabrita is een Nederlands merk poeder van geitenmelk dat geschikt is voor het maken van</td>\n",
              "      <td>nl</td>\n",
              "    </tr>\n",
              "    <tr>\n",
              "      <th>46</th>\n",
              "      <td>by were Congress. However, early taking at Because as close were side be the the</td>\n",
              "      <td>en</td>\n",
              "    </tr>\n",
              "    <tr>\n",
              "      <th>55</th>\n",
              "      <td>down mayor Extended was opposition announced won support National the leader.[32] Conference.[35] he its</td>\n",
              "      <td>en</td>\n",
              "    </tr>\n",
              "    <tr>\n",
              "      <th>200</th>\n",
              "      <td>where chemical usually but negligible imply is number element) now isotope has each emphasizes neutrons</td>\n",
              "      <td>en</td>\n",
              "    </tr>\n",
              "    <tr>\n",
              "      <th>193</th>\n",
              "      <td>particularly metals, with for electrical allotrope) silver occur common metal.[7] electrical superfluid any higher VHF</td>\n",
              "      <td>en</td>\n",
              "    </tr>\n",
              "    <tr>\n",
              "      <th>138</th>\n",
              "      <td>behalf our to the at at every we pay the wheresoever render the our year</td>\n",
              "      <td>en</td>\n",
              "    </tr>\n",
              "    <tr>\n",
              "      <th>540</th>\n",
              "      <td>ubiquitous patrol boats fought with zeal, courage and heroism hitting Japanese warships with torpedoes when</td>\n",
              "      <td>en</td>\n",
              "    </tr>\n",
              "  </tbody>\n",
              "</table>\n",
              "</div>\n",
              "      <button class=\"colab-df-convert\" onclick=\"convertToInteractive('df-f9633033-4e0d-49fe-bbfd-d9d656b09efc')\"\n",
              "              title=\"Convert this dataframe to an interactive table.\"\n",
              "              style=\"display:none;\">\n",
              "        \n",
              "  <svg xmlns=\"http://www.w3.org/2000/svg\" height=\"24px\"viewBox=\"0 0 24 24\"\n",
              "       width=\"24px\">\n",
              "    <path d=\"M0 0h24v24H0V0z\" fill=\"none\"/>\n",
              "    <path d=\"M18.56 5.44l.94 2.06.94-2.06 2.06-.94-2.06-.94-.94-2.06-.94 2.06-2.06.94zm-11 1L8.5 8.5l.94-2.06 2.06-.94-2.06-.94L8.5 2.5l-.94 2.06-2.06.94zm10 10l.94 2.06.94-2.06 2.06-.94-2.06-.94-.94-2.06-.94 2.06-2.06.94z\"/><path d=\"M17.41 7.96l-1.37-1.37c-.4-.4-.92-.59-1.43-.59-.52 0-1.04.2-1.43.59L10.3 9.45l-7.72 7.72c-.78.78-.78 2.05 0 2.83L4 21.41c.39.39.9.59 1.41.59.51 0 1.02-.2 1.41-.59l7.78-7.78 2.81-2.81c.8-.78.8-2.07 0-2.86zM5.41 20L4 18.59l7.72-7.72 1.47 1.35L5.41 20z\"/>\n",
              "  </svg>\n",
              "      </button>\n",
              "      \n",
              "  <style>\n",
              "    .colab-df-container {\n",
              "      display:flex;\n",
              "      flex-wrap:wrap;\n",
              "      gap: 12px;\n",
              "    }\n",
              "\n",
              "    .colab-df-convert {\n",
              "      background-color: #E8F0FE;\n",
              "      border: none;\n",
              "      border-radius: 50%;\n",
              "      cursor: pointer;\n",
              "      display: none;\n",
              "      fill: #1967D2;\n",
              "      height: 32px;\n",
              "      padding: 0 0 0 0;\n",
              "      width: 32px;\n",
              "    }\n",
              "\n",
              "    .colab-df-convert:hover {\n",
              "      background-color: #E2EBFA;\n",
              "      box-shadow: 0px 1px 2px rgba(60, 64, 67, 0.3), 0px 1px 3px 1px rgba(60, 64, 67, 0.15);\n",
              "      fill: #174EA6;\n",
              "    }\n",
              "\n",
              "    [theme=dark] .colab-df-convert {\n",
              "      background-color: #3B4455;\n",
              "      fill: #D2E3FC;\n",
              "    }\n",
              "\n",
              "    [theme=dark] .colab-df-convert:hover {\n",
              "      background-color: #434B5C;\n",
              "      box-shadow: 0px 1px 3px 1px rgba(0, 0, 0, 0.15);\n",
              "      filter: drop-shadow(0px 1px 2px rgba(0, 0, 0, 0.3));\n",
              "      fill: #FFFFFF;\n",
              "    }\n",
              "  </style>\n",
              "\n",
              "      <script>\n",
              "        const buttonEl =\n",
              "          document.querySelector('#df-f9633033-4e0d-49fe-bbfd-d9d656b09efc button.colab-df-convert');\n",
              "        buttonEl.style.display =\n",
              "          google.colab.kernel.accessAllowed ? 'block' : 'none';\n",
              "\n",
              "        async function convertToInteractive(key) {\n",
              "          const element = document.querySelector('#df-f9633033-4e0d-49fe-bbfd-d9d656b09efc');\n",
              "          const dataTable =\n",
              "            await google.colab.kernel.invokeFunction('convertToInteractive',\n",
              "                                                     [key], {});\n",
              "          if (!dataTable) return;\n",
              "\n",
              "          const docLinkHtml = 'Like what you see? Visit the ' +\n",
              "            '<a target=\"_blank\" href=https://colab.research.google.com/notebooks/data_table.ipynb>data table notebook</a>'\n",
              "            + ' to learn more about interactive tables.';\n",
              "          element.innerHTML = '';\n",
              "          dataTable['output_type'] = 'display_data';\n",
              "          await google.colab.output.renderOutput(dataTable, element);\n",
              "          const docLink = document.createElement('div');\n",
              "          docLink.innerHTML = docLinkHtml;\n",
              "          element.appendChild(docLink);\n",
              "        }\n",
              "      </script>\n",
              "    </div>\n",
              "  </div>\n",
              "  "
            ],
            "text/plain": [
              "                                                                                                                       text  \\\n",
              "515                   kritiseert hij onder meer de opvatting uit de strafrechtpraktijk, dat in juridische stukken zoals een   \n",
              "231                                          its reduced Mahavira.[79] by came 6th from the the of Magadha and BCE, the and   \n",
              "382                               april dat de bedroeg, verklaring dan beweerde vermogen zijn aan zijn nauwelijks Hoewel in   \n",
              "265                                 Kabrita is een Nederlands merk poeder van geitenmelk dat geschikt is voor het maken van   \n",
              "46                                         by were Congress. However, early taking at Because as close were side be the the   \n",
              "55                 down mayor Extended was opposition announced won support National the leader.[32] Conference.[35] he its   \n",
              "200                 where chemical usually but negligible imply is number element) now isotope has each emphasizes neutrons   \n",
              "193  particularly metals, with for electrical allotrope) silver occur common metal.[7] electrical superfluid any higher VHF   \n",
              "138                                                behalf our to the at at every we pay the wheresoever render the our year   \n",
              "540             ubiquitous patrol boats fought with zeal, courage and heroism hitting Japanese warships with torpedoes when   \n",
              "\n",
              "    label  \n",
              "515    nl  \n",
              "231    en  \n",
              "382    nl  \n",
              "265    nl  \n",
              "46     en  \n",
              "55     en  \n",
              "200    en  \n",
              "193    en  \n",
              "138    en  \n",
              "540    en  "
            ]
          },
          "metadata": {},
          "execution_count": 12
        }
      ]
    },
    {
      "cell_type": "code",
      "metadata": {
        "id": "iu0mUgQgfNxE",
        "colab": {
          "base_uri": "https://localhost:8080/"
        },
        "outputId": "55ba4b13-8a81-4e12-d75f-0130673e11a0"
      },
      "source": [
        "# investigating the label distribution\n",
        "df['label'].value_counts()"
      ],
      "execution_count": null,
      "outputs": [
        {
          "output_type": "execute_result",
          "data": {
            "text/plain": [
              "en    200\n",
              "nl    200\n",
              "Name: label, dtype: int64"
            ]
          },
          "metadata": {},
          "execution_count": 13
        }
      ]
    },
    {
      "cell_type": "markdown",
      "metadata": {
        "id": "SABEvQqbfXHF"
      },
      "source": [
        "We now have our balanced dataset. "
      ]
    },
    {
      "cell_type": "markdown",
      "metadata": {
        "id": "ueIz-A-eWga9"
      },
      "source": [
        "### <font color='#2F4F4F'> 3.2 Text Cleaning</font>"
      ]
    },
    {
      "cell_type": "code",
      "metadata": {
        "id": "ATi3KYKuWtJ5"
      },
      "source": [
        "# We will create a custom function that will contain all the text cleaning \n",
        "# techniques. We can then reuse the same function for cleaning new data\n",
        "# without rewriting the code.\n",
        "# ---\n",
        "# \n",
        "\n",
        "def text_cleaner(x):\n",
        "  x = x.lower() # lowercases all text\n",
        "  x = ' '.join([word for word in x.split(' ') if word not in stop]) # for stop words\n",
        "  x = x.encode('ascii', 'ignore').decode()\n",
        "  x = re.sub(r'\\'\\w+', '', x) # Remove ticks and the next character eg Garrard's\n",
        "  x = re.sub('[%s]' % re.escape(string.punctuation), ' ', x)  # Remove punctuations ie \"\"\n",
        "  x = re.sub(r'\\w*\\d+\\w*', '', x) # Remove numbers\n",
        "  x = re.sub(r'\\s{2,}', ' ', x) # Replace the over spaces\n",
        "  return x\n",
        "df['clean_text'] = df.text.apply(text_cleaner)"
      ],
      "execution_count": null,
      "outputs": []
    },
    {
      "cell_type": "code",
      "metadata": {
        "id": "PXhae-QrhX85"
      },
      "source": [
        "# Applying the text_cleaning function to our dataframe.\n",
        "# ---\n",
        "# NB: This process may take 5-10 min.\n",
        "# ---\n",
        "df['clean_text'] = df.text.apply(text_cleaner)"
      ],
      "execution_count": null,
      "outputs": []
    },
    {
      "cell_type": "code",
      "source": [
        "df.sample(10)"
      ],
      "metadata": {
        "colab": {
          "base_uri": "https://localhost:8080/",
          "height": 580
        },
        "id": "5Hpsm8WgRFuf",
        "outputId": "d9efbfc0-2e8e-4129-93cc-2c162c6f0834"
      },
      "execution_count": null,
      "outputs": [
        {
          "output_type": "execute_result",
          "data": {
            "text/html": [
              "\n",
              "  <div id=\"df-ced72320-373c-455c-870f-e501e4da09b3\">\n",
              "    <div class=\"colab-df-container\">\n",
              "      <div>\n",
              "<style scoped>\n",
              "    .dataframe tbody tr th:only-of-type {\n",
              "        vertical-align: middle;\n",
              "    }\n",
              "\n",
              "    .dataframe tbody tr th {\n",
              "        vertical-align: top;\n",
              "    }\n",
              "\n",
              "    .dataframe thead th {\n",
              "        text-align: right;\n",
              "    }\n",
              "</style>\n",
              "<table border=\"1\" class=\"dataframe\">\n",
              "  <thead>\n",
              "    <tr style=\"text-align: right;\">\n",
              "      <th></th>\n",
              "      <th>text</th>\n",
              "      <th>label</th>\n",
              "      <th>clean_text</th>\n",
              "    </tr>\n",
              "  </thead>\n",
              "  <tbody>\n",
              "    <tr>\n",
              "      <th>680</th>\n",
              "      <td>performed together with Sonja Henie at Centralteatret on spectacle, as well as at the National</td>\n",
              "      <td>en</td>\n",
              "      <td>performed together sonja henie centralteatret spectacle well national</td>\n",
              "    </tr>\n",
              "    <tr>\n",
              "      <th>1042</th>\n",
              "      <td>werd en onenigheden Doherty Walsh, er actrice de gekibbel echter concurrentie af tussen aan hebben</td>\n",
              "      <td>nl</td>\n",
              "      <td>werd en onenigheden doherty walsh er actrice de gekibbel echter concurrentie af tussen aan hebben</td>\n",
              "    </tr>\n",
              "    <tr>\n",
              "      <th>338</th>\n",
              "      <td>weeksalaris een gelijkstroomsysteem af zijn doen. wist aan kreeg ontslag Mede verkocht Amerikaanse van</td>\n",
              "      <td>nl</td>\n",
              "      <td>weeksalaris een gelijkstroomsysteem af zijn doen wist aan kreeg ontslag mede verkocht amerikaanse van</td>\n",
              "    </tr>\n",
              "    <tr>\n",
              "      <th>455</th>\n",
              "      <td>doelpunten Messi een wedstrijd in maakte laatste stond) IvÃ¡n en seizoen vinden. is lukte In</td>\n",
              "      <td>nl</td>\n",
              "      <td>doelpunten messi een wedstrijd maakte laatste stond ivn en seizoen vinden lukte</td>\n",
              "    </tr>\n",
              "    <tr>\n",
              "      <th>568</th>\n",
              "      <td>Belshe started his career at Hewlett Packard, followed by Silicon Valley startup Netscape Communications Corp</td>\n",
              "      <td>en</td>\n",
              "      <td>belshe started career hewlett packard followed silicon valley startup netscape communications corp</td>\n",
              "    </tr>\n",
              "    <tr>\n",
              "      <th>554</th>\n",
              "      <td>small groups until mid-November when the cadre received passage home. The remaining personnel of the</td>\n",
              "      <td>en</td>\n",
              "      <td>small groups mid november cadre received passage home remaining personnel</td>\n",
              "    </tr>\n",
              "    <tr>\n",
              "      <th>527</th>\n",
              "      <td>zijn alle gouden objecten bruin gekleurd, gelijk aan de kleur van de paarden. De, tot</td>\n",
              "      <td>nl</td>\n",
              "      <td>zijn alle gouden objecten bruin gekleurd gelijk aan de kleur van de paarden de tot</td>\n",
              "    </tr>\n",
              "    <tr>\n",
              "      <th>523</th>\n",
              "      <td>en kan zowel mannelijke als vrouwelijke geslachtscellen produceren. De soort leeft in zeer vochtige omstandigheden</td>\n",
              "      <td>nl</td>\n",
              "      <td>en kan zowel mannelijke als vrouwelijke geslachtscellen produceren de soort leeft zeer vochtige omstandigheden</td>\n",
              "    </tr>\n",
              "    <tr>\n",
              "      <th>888</th>\n",
              "      <td>Revaz Tevdoradze Georgian რევაზ თევდორაძე born February is a Georgian professional football player currently playing</td>\n",
              "      <td>en</td>\n",
              "      <td>revaz tevdoradze georgian born february georgian professional football player currently playing</td>\n",
              "    </tr>\n",
              "    <tr>\n",
              "      <th>540</th>\n",
              "      <td>ubiquitous patrol boats fought with zeal, courage and heroism hitting Japanese warships with torpedoes when</td>\n",
              "      <td>en</td>\n",
              "      <td>ubiquitous patrol boats fought zeal courage heroism hitting japanese warships torpedoes</td>\n",
              "    </tr>\n",
              "  </tbody>\n",
              "</table>\n",
              "</div>\n",
              "      <button class=\"colab-df-convert\" onclick=\"convertToInteractive('df-ced72320-373c-455c-870f-e501e4da09b3')\"\n",
              "              title=\"Convert this dataframe to an interactive table.\"\n",
              "              style=\"display:none;\">\n",
              "        \n",
              "  <svg xmlns=\"http://www.w3.org/2000/svg\" height=\"24px\"viewBox=\"0 0 24 24\"\n",
              "       width=\"24px\">\n",
              "    <path d=\"M0 0h24v24H0V0z\" fill=\"none\"/>\n",
              "    <path d=\"M18.56 5.44l.94 2.06.94-2.06 2.06-.94-2.06-.94-.94-2.06-.94 2.06-2.06.94zm-11 1L8.5 8.5l.94-2.06 2.06-.94-2.06-.94L8.5 2.5l-.94 2.06-2.06.94zm10 10l.94 2.06.94-2.06 2.06-.94-2.06-.94-.94-2.06-.94 2.06-2.06.94z\"/><path d=\"M17.41 7.96l-1.37-1.37c-.4-.4-.92-.59-1.43-.59-.52 0-1.04.2-1.43.59L10.3 9.45l-7.72 7.72c-.78.78-.78 2.05 0 2.83L4 21.41c.39.39.9.59 1.41.59.51 0 1.02-.2 1.41-.59l7.78-7.78 2.81-2.81c.8-.78.8-2.07 0-2.86zM5.41 20L4 18.59l7.72-7.72 1.47 1.35L5.41 20z\"/>\n",
              "  </svg>\n",
              "      </button>\n",
              "      \n",
              "  <style>\n",
              "    .colab-df-container {\n",
              "      display:flex;\n",
              "      flex-wrap:wrap;\n",
              "      gap: 12px;\n",
              "    }\n",
              "\n",
              "    .colab-df-convert {\n",
              "      background-color: #E8F0FE;\n",
              "      border: none;\n",
              "      border-radius: 50%;\n",
              "      cursor: pointer;\n",
              "      display: none;\n",
              "      fill: #1967D2;\n",
              "      height: 32px;\n",
              "      padding: 0 0 0 0;\n",
              "      width: 32px;\n",
              "    }\n",
              "\n",
              "    .colab-df-convert:hover {\n",
              "      background-color: #E2EBFA;\n",
              "      box-shadow: 0px 1px 2px rgba(60, 64, 67, 0.3), 0px 1px 3px 1px rgba(60, 64, 67, 0.15);\n",
              "      fill: #174EA6;\n",
              "    }\n",
              "\n",
              "    [theme=dark] .colab-df-convert {\n",
              "      background-color: #3B4455;\n",
              "      fill: #D2E3FC;\n",
              "    }\n",
              "\n",
              "    [theme=dark] .colab-df-convert:hover {\n",
              "      background-color: #434B5C;\n",
              "      box-shadow: 0px 1px 3px 1px rgba(0, 0, 0, 0.15);\n",
              "      filter: drop-shadow(0px 1px 2px rgba(0, 0, 0, 0.3));\n",
              "      fill: #FFFFFF;\n",
              "    }\n",
              "  </style>\n",
              "\n",
              "      <script>\n",
              "        const buttonEl =\n",
              "          document.querySelector('#df-ced72320-373c-455c-870f-e501e4da09b3 button.colab-df-convert');\n",
              "        buttonEl.style.display =\n",
              "          google.colab.kernel.accessAllowed ? 'block' : 'none';\n",
              "\n",
              "        async function convertToInteractive(key) {\n",
              "          const element = document.querySelector('#df-ced72320-373c-455c-870f-e501e4da09b3');\n",
              "          const dataTable =\n",
              "            await google.colab.kernel.invokeFunction('convertToInteractive',\n",
              "                                                     [key], {});\n",
              "          if (!dataTable) return;\n",
              "\n",
              "          const docLinkHtml = 'Like what you see? Visit the ' +\n",
              "            '<a target=\"_blank\" href=https://colab.research.google.com/notebooks/data_table.ipynb>data table notebook</a>'\n",
              "            + ' to learn more about interactive tables.';\n",
              "          element.innerHTML = '';\n",
              "          dataTable['output_type'] = 'display_data';\n",
              "          await google.colab.output.renderOutput(dataTable, element);\n",
              "          const docLink = document.createElement('div');\n",
              "          docLink.innerHTML = docLinkHtml;\n",
              "          element.appendChild(docLink);\n",
              "        }\n",
              "      </script>\n",
              "    </div>\n",
              "  </div>\n",
              "  "
            ],
            "text/plain": [
              "                                                                                                                      text  \\\n",
              "680                         performed together with Sonja Henie at Centralteatret on spectacle, as well as at the National   \n",
              "1042                    werd en onenigheden Doherty Walsh, er actrice de gekibbel echter concurrentie af tussen aan hebben   \n",
              "338                 weeksalaris een gelijkstroomsysteem af zijn doen. wist aan kreeg ontslag Mede verkocht Amerikaanse van   \n",
              "455                           doelpunten Messi een wedstrijd in maakte laatste stond) IvÃ¡n en seizoen vinden. is lukte In   \n",
              "568          Belshe started his career at Hewlett Packard, followed by Silicon Valley startup Netscape Communications Corp   \n",
              "554                   small groups until mid-November when the cadre received passage home. The remaining personnel of the   \n",
              "527                                  zijn alle gouden objecten bruin gekleurd, gelijk aan de kleur van de paarden. De, tot   \n",
              "523     en kan zowel mannelijke als vrouwelijke geslachtscellen produceren. De soort leeft in zeer vochtige omstandigheden   \n",
              "888   Revaz Tevdoradze Georgian რევაზ თევდორაძე born February is a Georgian professional football player currently playing   \n",
              "540            ubiquitous patrol boats fought with zeal, courage and heroism hitting Japanese warships with torpedoes when   \n",
              "\n",
              "     label  \\\n",
              "680     en   \n",
              "1042    nl   \n",
              "338     nl   \n",
              "455     nl   \n",
              "568     en   \n",
              "554     en   \n",
              "527     nl   \n",
              "523     nl   \n",
              "888     en   \n",
              "540     en   \n",
              "\n",
              "                                                                                                          clean_text  \n",
              "680                                            performed together sonja henie centralteatret spectacle well national  \n",
              "1042               werd en onenigheden doherty walsh er actrice de gekibbel echter concurrentie af tussen aan hebben  \n",
              "338            weeksalaris een gelijkstroomsysteem af zijn doen wist aan kreeg ontslag mede verkocht amerikaanse van  \n",
              "455                                  doelpunten messi een wedstrijd maakte laatste stond ivn en seizoen vinden lukte  \n",
              "568               belshe started career hewlett packard followed silicon valley startup netscape communications corp  \n",
              "554                                        small groups mid november cadre received passage home remaining personnel  \n",
              "527                               zijn alle gouden objecten bruin gekleurd gelijk aan de kleur van de paarden de tot  \n",
              "523   en kan zowel mannelijke als vrouwelijke geslachtscellen produceren de soort leeft zeer vochtige omstandigheden  \n",
              "888                  revaz tevdoradze georgian born february georgian professional football player currently playing  \n",
              "540                          ubiquitous patrol boats fought zeal courage heroism hitting japanese warships torpedoes  "
            ]
          },
          "metadata": {},
          "execution_count": 16
        }
      ]
    },
    {
      "cell_type": "markdown",
      "metadata": {
        "id": "kHzztFd5Wpx_"
      },
      "source": [
        "### <font color='#2F4F4F'> 3.3 Feature Engineering</font>"
      ]
    },
    {
      "cell_type": "code",
      "source": [
        "# We will create a custom function that will contain all the \n",
        "# feature engineering techniques. We can then use this function \n",
        "# for cleaning new data. \n",
        "\n",
        "def text_features(x):\n",
        "  df['word_count'] = df[\"clean_text\"].apply(lambda x: len(str(x).split(\" \")))\n",
        "  df['character_count'] = df[\"clean_text\"].apply(lambda x: sum(len(word) for word in str(x).split(\" \")))\n",
        "  df['sentence_count'] = df[\"clean_text\"].apply(lambda x: len(str(x).split(\".\")))\n",
        "  df['avg_word_length'] = df['character_count'] / df['word_count']\n",
        "  df['avg_sentence_length'] = df['word_count'] / df['sentence_count']\n",
        "  return x\n"
      ],
      "metadata": {
        "id": "40yLYiqJW1Ws"
      },
      "execution_count": null,
      "outputs": []
    },
    {
      "cell_type": "code",
      "metadata": {
        "id": "dli-H5lNjESt",
        "colab": {
          "base_uri": "https://localhost:8080/",
          "height": 493
        },
        "outputId": "57344f92-414a-4582-e5ba-ba67054ad2f6"
      },
      "source": [
        "# Applying the custom feature engineering function to our dataframe.\n",
        "# This process may take 2-5 min.\n",
        "# ---\n",
        "text_features(df)\n",
        "df.sample(5)"
      ],
      "execution_count": null,
      "outputs": [
        {
          "output_type": "execute_result",
          "data": {
            "text/html": [
              "\n",
              "  <div id=\"df-73128bc5-c0bb-4f85-903f-5f34d6e94c1f\">\n",
              "    <div class=\"colab-df-container\">\n",
              "      <div>\n",
              "<style scoped>\n",
              "    .dataframe tbody tr th:only-of-type {\n",
              "        vertical-align: middle;\n",
              "    }\n",
              "\n",
              "    .dataframe tbody tr th {\n",
              "        vertical-align: top;\n",
              "    }\n",
              "\n",
              "    .dataframe thead th {\n",
              "        text-align: right;\n",
              "    }\n",
              "</style>\n",
              "<table border=\"1\" class=\"dataframe\">\n",
              "  <thead>\n",
              "    <tr style=\"text-align: right;\">\n",
              "      <th></th>\n",
              "      <th>text</th>\n",
              "      <th>label</th>\n",
              "      <th>clean_text</th>\n",
              "      <th>word_count</th>\n",
              "      <th>character_count</th>\n",
              "      <th>sentence_count</th>\n",
              "      <th>avg_word_length</th>\n",
              "      <th>avg_sentence_length</th>\n",
              "    </tr>\n",
              "  </thead>\n",
              "  <tbody>\n",
              "    <tr>\n",
              "      <th>1045</th>\n",
              "      <td>Gilden cultuurpatroon en De die (eerdere) de Boerenbond. het van het antwoord van vond van</td>\n",
              "      <td>nl</td>\n",
              "      <td>gilden cultuurpatroon en de die eerdere de boerenbond het van het antwoord van vond van</td>\n",
              "      <td>15</td>\n",
              "      <td>73</td>\n",
              "      <td>1</td>\n",
              "      <td>4.866667</td>\n",
              "      <td>15.0</td>\n",
              "    </tr>\n",
              "    <tr>\n",
              "      <th>247</th>\n",
              "      <td>and which ran theatrical his influenced helped has bus rhetoric characters Vadnagar teacher child, said</td>\n",
              "      <td>en</td>\n",
              "      <td>ran theatrical influenced helped bus rhetoric characters vadnagar teacher child said</td>\n",
              "      <td>11</td>\n",
              "      <td>74</td>\n",
              "      <td>1</td>\n",
              "      <td>6.727273</td>\n",
              "      <td>11.0</td>\n",
              "    </tr>\n",
              "    <tr>\n",
              "      <th>683</th>\n",
              "      <td>six weeks at the Cairo Opera House as part of the Vienna State Opera. Cleve</td>\n",
              "      <td>en</td>\n",
              "      <td>six weeks cairo opera house part vienna state opera cleve</td>\n",
              "      <td>10</td>\n",
              "      <td>48</td>\n",
              "      <td>1</td>\n",
              "      <td>4.800000</td>\n",
              "      <td>10.0</td>\n",
              "    </tr>\n",
              "    <tr>\n",
              "      <th>420</th>\n",
              "      <td>- in als microfoons in of mee plannen; zij Ze handen, Bij burgers metafoor consultatie</td>\n",
              "      <td>nl</td>\n",
              "      <td>als microfoons mee plannen zij ze handen bij burgers metafoor consultatie</td>\n",
              "      <td>12</td>\n",
              "      <td>63</td>\n",
              "      <td>1</td>\n",
              "      <td>5.250000</td>\n",
              "      <td>12.0</td>\n",
              "    </tr>\n",
              "    <tr>\n",
              "      <th>966</th>\n",
              "      <td>It is located north of the Col de la Forclaz and geographically part of the</td>\n",
              "      <td>en</td>\n",
              "      <td>located north col de la forclaz geographically part</td>\n",
              "      <td>8</td>\n",
              "      <td>44</td>\n",
              "      <td>1</td>\n",
              "      <td>5.500000</td>\n",
              "      <td>8.0</td>\n",
              "    </tr>\n",
              "  </tbody>\n",
              "</table>\n",
              "</div>\n",
              "      <button class=\"colab-df-convert\" onclick=\"convertToInteractive('df-73128bc5-c0bb-4f85-903f-5f34d6e94c1f')\"\n",
              "              title=\"Convert this dataframe to an interactive table.\"\n",
              "              style=\"display:none;\">\n",
              "        \n",
              "  <svg xmlns=\"http://www.w3.org/2000/svg\" height=\"24px\"viewBox=\"0 0 24 24\"\n",
              "       width=\"24px\">\n",
              "    <path d=\"M0 0h24v24H0V0z\" fill=\"none\"/>\n",
              "    <path d=\"M18.56 5.44l.94 2.06.94-2.06 2.06-.94-2.06-.94-.94-2.06-.94 2.06-2.06.94zm-11 1L8.5 8.5l.94-2.06 2.06-.94-2.06-.94L8.5 2.5l-.94 2.06-2.06.94zm10 10l.94 2.06.94-2.06 2.06-.94-2.06-.94-.94-2.06-.94 2.06-2.06.94z\"/><path d=\"M17.41 7.96l-1.37-1.37c-.4-.4-.92-.59-1.43-.59-.52 0-1.04.2-1.43.59L10.3 9.45l-7.72 7.72c-.78.78-.78 2.05 0 2.83L4 21.41c.39.39.9.59 1.41.59.51 0 1.02-.2 1.41-.59l7.78-7.78 2.81-2.81c.8-.78.8-2.07 0-2.86zM5.41 20L4 18.59l7.72-7.72 1.47 1.35L5.41 20z\"/>\n",
              "  </svg>\n",
              "      </button>\n",
              "      \n",
              "  <style>\n",
              "    .colab-df-container {\n",
              "      display:flex;\n",
              "      flex-wrap:wrap;\n",
              "      gap: 12px;\n",
              "    }\n",
              "\n",
              "    .colab-df-convert {\n",
              "      background-color: #E8F0FE;\n",
              "      border: none;\n",
              "      border-radius: 50%;\n",
              "      cursor: pointer;\n",
              "      display: none;\n",
              "      fill: #1967D2;\n",
              "      height: 32px;\n",
              "      padding: 0 0 0 0;\n",
              "      width: 32px;\n",
              "    }\n",
              "\n",
              "    .colab-df-convert:hover {\n",
              "      background-color: #E2EBFA;\n",
              "      box-shadow: 0px 1px 2px rgba(60, 64, 67, 0.3), 0px 1px 3px 1px rgba(60, 64, 67, 0.15);\n",
              "      fill: #174EA6;\n",
              "    }\n",
              "\n",
              "    [theme=dark] .colab-df-convert {\n",
              "      background-color: #3B4455;\n",
              "      fill: #D2E3FC;\n",
              "    }\n",
              "\n",
              "    [theme=dark] .colab-df-convert:hover {\n",
              "      background-color: #434B5C;\n",
              "      box-shadow: 0px 1px 3px 1px rgba(0, 0, 0, 0.15);\n",
              "      filter: drop-shadow(0px 1px 2px rgba(0, 0, 0, 0.3));\n",
              "      fill: #FFFFFF;\n",
              "    }\n",
              "  </style>\n",
              "\n",
              "      <script>\n",
              "        const buttonEl =\n",
              "          document.querySelector('#df-73128bc5-c0bb-4f85-903f-5f34d6e94c1f button.colab-df-convert');\n",
              "        buttonEl.style.display =\n",
              "          google.colab.kernel.accessAllowed ? 'block' : 'none';\n",
              "\n",
              "        async function convertToInteractive(key) {\n",
              "          const element = document.querySelector('#df-73128bc5-c0bb-4f85-903f-5f34d6e94c1f');\n",
              "          const dataTable =\n",
              "            await google.colab.kernel.invokeFunction('convertToInteractive',\n",
              "                                                     [key], {});\n",
              "          if (!dataTable) return;\n",
              "\n",
              "          const docLinkHtml = 'Like what you see? Visit the ' +\n",
              "            '<a target=\"_blank\" href=https://colab.research.google.com/notebooks/data_table.ipynb>data table notebook</a>'\n",
              "            + ' to learn more about interactive tables.';\n",
              "          element.innerHTML = '';\n",
              "          dataTable['output_type'] = 'display_data';\n",
              "          await google.colab.output.renderOutput(dataTable, element);\n",
              "          const docLink = document.createElement('div');\n",
              "          docLink.innerHTML = docLinkHtml;\n",
              "          element.appendChild(docLink);\n",
              "        }\n",
              "      </script>\n",
              "    </div>\n",
              "  </div>\n",
              "  "
            ],
            "text/plain": [
              "                                                                                                         text  \\\n",
              "1045               Gilden cultuurpatroon en De die (eerdere) de Boerenbond. het van het antwoord van vond van   \n",
              "247   and which ran theatrical his influenced helped has bus rhetoric characters Vadnagar teacher child, said   \n",
              "683                               six weeks at the Cairo Opera House as part of the Vienna State Opera. Cleve   \n",
              "420                    - in als microfoons in of mee plannen; zij Ze handen, Bij burgers metafoor consultatie   \n",
              "966                               It is located north of the Col de la Forclaz and geographically part of the   \n",
              "\n",
              "     label  \\\n",
              "1045    nl   \n",
              "247     en   \n",
              "683     en   \n",
              "420     nl   \n",
              "966     en   \n",
              "\n",
              "                                                                                   clean_text  \\\n",
              "1045  gilden cultuurpatroon en de die eerdere de boerenbond het van het antwoord van vond van   \n",
              "247      ran theatrical influenced helped bus rhetoric characters vadnagar teacher child said   \n",
              "683                                 six weeks cairo opera house part vienna state opera cleve   \n",
              "420                 als microfoons mee plannen zij ze handen bij burgers metafoor consultatie   \n",
              "966                                       located north col de la forclaz geographically part   \n",
              "\n",
              "      word_count  character_count  sentence_count  avg_word_length  \\\n",
              "1045          15               73               1         4.866667   \n",
              "247           11               74               1         6.727273   \n",
              "683           10               48               1         4.800000   \n",
              "420           12               63               1         5.250000   \n",
              "966            8               44               1         5.500000   \n",
              "\n",
              "      avg_sentence_length  \n",
              "1045                 15.0  \n",
              "247                  11.0  \n",
              "683                  10.0  \n",
              "420                  12.0  \n",
              "966                   8.0  "
            ]
          },
          "metadata": {},
          "execution_count": 18
        }
      ]
    },
    {
      "cell_type": "code",
      "metadata": {
        "id": "nPUG6EiQjN3B"
      },
      "source": [
        "# # Performing further feature engineering techniques\n",
        "# # Feature Construction: Word Level N-Gram TF-IDF Feature \n",
        "\n",
        "# from sklearn.feature_extraction.text import TfidfVectorizer\n",
        "# from nltk import word_tokenize, ngrams\n",
        "# \\\n",
        "# #Word ngrams\n",
        "# list(ngrams(word_tokenize(df['clean_text'][0]), 2)) \n",
        "\n",
        "# # Feature Construction: Character Level N-Gram TF-IDF \n",
        "# list(ngrams(df['clean_text'][0], 2))\n"
      ],
      "execution_count": null,
      "outputs": []
    },
    {
      "cell_type": "code",
      "source": [
        "from nltk import word_tokenize, ngrams\n",
        "\n",
        "# # Word ngrams\n",
        "# # ---\n",
        "# #\n",
        "# list(ngrams(word_tokenize(df['text'][0]), 2)) "
      ],
      "metadata": {
        "id": "QdBZk3fiLDlo"
      },
      "execution_count": null,
      "outputs": []
    },
    {
      "cell_type": "code",
      "source": [
        "df.head(2)"
      ],
      "metadata": {
        "colab": {
          "base_uri": "https://localhost:8080/",
          "height": 277
        },
        "id": "2T4QCn4MMJHe",
        "outputId": "a05b4b8e-dcaf-4146-d172-70fc525a626b"
      },
      "execution_count": null,
      "outputs": [
        {
          "output_type": "execute_result",
          "data": {
            "text/html": [
              "\n",
              "  <div id=\"df-de0fc7d3-547f-444f-9259-f832ff73c6b6\">\n",
              "    <div class=\"colab-df-container\">\n",
              "      <div>\n",
              "<style scoped>\n",
              "    .dataframe tbody tr th:only-of-type {\n",
              "        vertical-align: middle;\n",
              "    }\n",
              "\n",
              "    .dataframe tbody tr th {\n",
              "        vertical-align: top;\n",
              "    }\n",
              "\n",
              "    .dataframe thead th {\n",
              "        text-align: right;\n",
              "    }\n",
              "</style>\n",
              "<table border=\"1\" class=\"dataframe\">\n",
              "  <thead>\n",
              "    <tr style=\"text-align: right;\">\n",
              "      <th></th>\n",
              "      <th>text</th>\n",
              "      <th>label</th>\n",
              "      <th>clean_text</th>\n",
              "      <th>word_count</th>\n",
              "      <th>character_count</th>\n",
              "      <th>sentence_count</th>\n",
              "      <th>avg_word_length</th>\n",
              "      <th>avg_sentence_length</th>\n",
              "    </tr>\n",
              "  </thead>\n",
              "  <tbody>\n",
              "    <tr>\n",
              "      <th>879</th>\n",
              "      <td>His highestgrossing releases came with the comedydrama Lage Raho Munna Bhai the drama film My</td>\n",
              "      <td>en</td>\n",
              "      <td>highestgrossing releases came comedydrama lage raho munna bhai drama film</td>\n",
              "      <td>10</td>\n",
              "      <td>64</td>\n",
              "      <td>1</td>\n",
              "      <td>6.4</td>\n",
              "      <td>10.0</td>\n",
              "    </tr>\n",
              "    <tr>\n",
              "      <th>991</th>\n",
              "      <td>DeAngelis born October is a retired American professional basketball player who spent one season in</td>\n",
              "      <td>en</td>\n",
              "      <td>deangelis born october retired american professional basketball player spent one season</td>\n",
              "      <td>11</td>\n",
              "      <td>77</td>\n",
              "      <td>1</td>\n",
              "      <td>7.0</td>\n",
              "      <td>11.0</td>\n",
              "    </tr>\n",
              "  </tbody>\n",
              "</table>\n",
              "</div>\n",
              "      <button class=\"colab-df-convert\" onclick=\"convertToInteractive('df-de0fc7d3-547f-444f-9259-f832ff73c6b6')\"\n",
              "              title=\"Convert this dataframe to an interactive table.\"\n",
              "              style=\"display:none;\">\n",
              "        \n",
              "  <svg xmlns=\"http://www.w3.org/2000/svg\" height=\"24px\"viewBox=\"0 0 24 24\"\n",
              "       width=\"24px\">\n",
              "    <path d=\"M0 0h24v24H0V0z\" fill=\"none\"/>\n",
              "    <path d=\"M18.56 5.44l.94 2.06.94-2.06 2.06-.94-2.06-.94-.94-2.06-.94 2.06-2.06.94zm-11 1L8.5 8.5l.94-2.06 2.06-.94-2.06-.94L8.5 2.5l-.94 2.06-2.06.94zm10 10l.94 2.06.94-2.06 2.06-.94-2.06-.94-.94-2.06-.94 2.06-2.06.94z\"/><path d=\"M17.41 7.96l-1.37-1.37c-.4-.4-.92-.59-1.43-.59-.52 0-1.04.2-1.43.59L10.3 9.45l-7.72 7.72c-.78.78-.78 2.05 0 2.83L4 21.41c.39.39.9.59 1.41.59.51 0 1.02-.2 1.41-.59l7.78-7.78 2.81-2.81c.8-.78.8-2.07 0-2.86zM5.41 20L4 18.59l7.72-7.72 1.47 1.35L5.41 20z\"/>\n",
              "  </svg>\n",
              "      </button>\n",
              "      \n",
              "  <style>\n",
              "    .colab-df-container {\n",
              "      display:flex;\n",
              "      flex-wrap:wrap;\n",
              "      gap: 12px;\n",
              "    }\n",
              "\n",
              "    .colab-df-convert {\n",
              "      background-color: #E8F0FE;\n",
              "      border: none;\n",
              "      border-radius: 50%;\n",
              "      cursor: pointer;\n",
              "      display: none;\n",
              "      fill: #1967D2;\n",
              "      height: 32px;\n",
              "      padding: 0 0 0 0;\n",
              "      width: 32px;\n",
              "    }\n",
              "\n",
              "    .colab-df-convert:hover {\n",
              "      background-color: #E2EBFA;\n",
              "      box-shadow: 0px 1px 2px rgba(60, 64, 67, 0.3), 0px 1px 3px 1px rgba(60, 64, 67, 0.15);\n",
              "      fill: #174EA6;\n",
              "    }\n",
              "\n",
              "    [theme=dark] .colab-df-convert {\n",
              "      background-color: #3B4455;\n",
              "      fill: #D2E3FC;\n",
              "    }\n",
              "\n",
              "    [theme=dark] .colab-df-convert:hover {\n",
              "      background-color: #434B5C;\n",
              "      box-shadow: 0px 1px 3px 1px rgba(0, 0, 0, 0.15);\n",
              "      filter: drop-shadow(0px 1px 2px rgba(0, 0, 0, 0.3));\n",
              "      fill: #FFFFFF;\n",
              "    }\n",
              "  </style>\n",
              "\n",
              "      <script>\n",
              "        const buttonEl =\n",
              "          document.querySelector('#df-de0fc7d3-547f-444f-9259-f832ff73c6b6 button.colab-df-convert');\n",
              "        buttonEl.style.display =\n",
              "          google.colab.kernel.accessAllowed ? 'block' : 'none';\n",
              "\n",
              "        async function convertToInteractive(key) {\n",
              "          const element = document.querySelector('#df-de0fc7d3-547f-444f-9259-f832ff73c6b6');\n",
              "          const dataTable =\n",
              "            await google.colab.kernel.invokeFunction('convertToInteractive',\n",
              "                                                     [key], {});\n",
              "          if (!dataTable) return;\n",
              "\n",
              "          const docLinkHtml = 'Like what you see? Visit the ' +\n",
              "            '<a target=\"_blank\" href=https://colab.research.google.com/notebooks/data_table.ipynb>data table notebook</a>'\n",
              "            + ' to learn more about interactive tables.';\n",
              "          element.innerHTML = '';\n",
              "          dataTable['output_type'] = 'display_data';\n",
              "          await google.colab.output.renderOutput(dataTable, element);\n",
              "          const docLink = document.createElement('div');\n",
              "          docLink.innerHTML = docLinkHtml;\n",
              "          element.appendChild(docLink);\n",
              "        }\n",
              "      </script>\n",
              "    </div>\n",
              "  </div>\n",
              "  "
            ],
            "text/plain": [
              "                                                                                                    text  \\\n",
              "879        His highestgrossing releases came with the comedydrama Lage Raho Munna Bhai the drama film My   \n",
              "991  DeAngelis born October is a retired American professional basketball player who spent one season in   \n",
              "\n",
              "    label  \\\n",
              "879    en   \n",
              "991    en   \n",
              "\n",
              "                                                                                  clean_text  \\\n",
              "879                highestgrossing releases came comedydrama lage raho munna bhai drama film   \n",
              "991  deangelis born october retired american professional basketball player spent one season   \n",
              "\n",
              "     word_count  character_count  sentence_count  avg_word_length  \\\n",
              "879          10               64               1              6.4   \n",
              "991          11               77               1              7.0   \n",
              "\n",
              "     avg_sentence_length  \n",
              "879                 10.0  \n",
              "991                 11.0  "
            ]
          },
          "metadata": {},
          "execution_count": 21
        }
      ]
    },
    {
      "cell_type": "code",
      "metadata": {
        "id": "cU5dGj1_jO8B",
        "colab": {
          "base_uri": "https://localhost:8080/"
        },
        "outputId": "98cf5365-d5bb-4b6f-b077-1a7c71cda003"
      },
      "source": [
        "# Let's prepare the constructed features for modeling\n",
        "# ---\n",
        "# We will select all variables but the target (which is the label) and text variables \n",
        "# ---\n",
        "#  \n",
        "X_metadata = np.array(df.iloc[:, 3:7])\n",
        "X_metadata"
      ],
      "execution_count": null,
      "outputs": [
        {
          "output_type": "execute_result",
          "data": {
            "text/plain": [
              "array([[10.        , 64.        ,  1.        ,  6.4       ],\n",
              "       [11.        , 77.        ,  1.        ,  7.        ],\n",
              "       [10.        , 54.        ,  1.        ,  5.4       ],\n",
              "       ...,\n",
              "       [13.        , 78.        ,  1.        ,  6.        ],\n",
              "       [15.        , 93.        ,  1.        ,  6.2       ],\n",
              "       [15.        , 92.        ,  1.        ,  6.13333333]])"
            ]
          },
          "metadata": {},
          "execution_count": 22
        }
      ]
    },
    {
      "cell_type": "code",
      "source": [
        "tfidf = TfidfVectorizer(max_features=1000, lowercase=True, analyzer='word', ngram_range=(1,3),  stop_words= 'english')\n",
        "df_word_vect = tfidf.fit_transform(df['clean_text'])\n",
        "\n",
        "df_word_vect.toarray()"
      ],
      "metadata": {
        "colab": {
          "base_uri": "https://localhost:8080/"
        },
        "id": "eQS_vcWrMmOV",
        "outputId": "9cd7ba6a-1d48-41a9-be90-f1904dbfee08"
      },
      "execution_count": null,
      "outputs": [
        {
          "output_type": "execute_result",
          "data": {
            "text/plain": [
              "array([[0.        , 0.        , 0.        , ..., 0.        , 0.        ,\n",
              "        0.        ],\n",
              "       [0.        , 0.        , 0.        , ..., 0.        , 0.        ,\n",
              "        0.        ],\n",
              "       [0.        , 0.        , 0.        , ..., 0.        , 0.        ,\n",
              "        0.        ],\n",
              "       ...,\n",
              "       [0.32547896, 0.        , 0.        , ..., 0.        , 0.        ,\n",
              "        0.        ],\n",
              "       [0.        , 0.        , 0.        , ..., 0.        , 0.        ,\n",
              "        0.        ],\n",
              "       [0.        , 0.        , 0.        , ..., 0.        , 0.        ,\n",
              "        0.        ]])"
            ]
          },
          "metadata": {},
          "execution_count": 23
        }
      ]
    },
    {
      "cell_type": "code",
      "source": [
        "tfidf = TfidfVectorizer(max_features=1000, lowercase=True, analyzer='char', ngram_range=(1,3),  stop_words= 'english')\n",
        "df_char_vect = tfidf.fit_transform(df['clean_text'])\n",
        "\n",
        "df_char_vect.toarray()"
      ],
      "metadata": {
        "colab": {
          "base_uri": "https://localhost:8080/"
        },
        "id": "sORknfKqMsuf",
        "outputId": "ed7dc9b7-0aac-4a62-bf18-6bac4c1d5160"
      },
      "execution_count": null,
      "outputs": [
        {
          "output_type": "execute_result",
          "data": {
            "text/plain": [
              "array([[0.23342672, 0.        , 0.        , ..., 0.        , 0.        ,\n",
              "        0.        ],\n",
              "       [0.2205783 , 0.04047405, 0.        , ..., 0.        , 0.        ,\n",
              "        0.        ],\n",
              "       [0.25450784, 0.        , 0.        , ..., 0.        , 0.        ,\n",
              "        0.        ],\n",
              "       ...,\n",
              "       [0.27695334, 0.04234861, 0.08806903, ..., 0.        , 0.        ,\n",
              "        0.        ],\n",
              "       [0.25381971, 0.        , 0.        , ..., 0.06234199, 0.06638758,\n",
              "        0.        ],\n",
              "       [0.25362922, 0.        , 0.        , ..., 0.        , 0.        ,\n",
              "        0.        ]])"
            ]
          },
          "metadata": {},
          "execution_count": 24
        }
      ]
    },
    {
      "cell_type": "code",
      "metadata": {
        "id": "f8F3QQ6PjZsc",
        "colab": {
          "base_uri": "https://localhost:8080/"
        },
        "outputId": "a2bb1a6f-d0dd-420f-956f-27da508dda22"
      },
      "source": [
        "# We combine our two tfidf (sparse) matrices and X_metadata\n",
        "# ---\n",
        "#\n",
        "X = scipy.sparse.hstack([df_word_vect, df_char_vect,  X_metadata])\n",
        "X"
      ],
      "execution_count": null,
      "outputs": [
        {
          "output_type": "execute_result",
          "data": {
            "text/plain": [
              "<400x2004 sparse matrix of type '<class 'numpy.float64'>'\n",
              "\twith 52333 stored elements in COOrdinate format>"
            ]
          },
          "metadata": {},
          "execution_count": 25
        }
      ]
    },
    {
      "cell_type": "code",
      "metadata": {
        "id": "k-YdQkYqoYjs",
        "colab": {
          "base_uri": "https://localhost:8080/"
        },
        "outputId": "d759077c-88f1-42d8-bebe-5f636005a3c0"
      },
      "source": [
        "# Label Preparation i.e. replacing categorial values with numerical ones\n",
        "# ---  \n",
        "#\n",
        "df.label.value_counts()\n"
      ],
      "execution_count": null,
      "outputs": [
        {
          "output_type": "execute_result",
          "data": {
            "text/plain": [
              "en    200\n",
              "nl    200\n",
              "Name: label, dtype: int64"
            ]
          },
          "metadata": {},
          "execution_count": 26
        }
      ]
    },
    {
      "cell_type": "code",
      "source": [
        "label_values = {'en':1, 'nl' :0}\n",
        "df['label_numeric'] = df.label.map(label_values)"
      ],
      "metadata": {
        "id": "Ec6_kUDEPE1s"
      },
      "execution_count": null,
      "outputs": []
    },
    {
      "cell_type": "code",
      "source": [
        "df.head(2)"
      ],
      "metadata": {
        "colab": {
          "base_uri": "https://localhost:8080/",
          "height": 381
        },
        "id": "elNnMtG7PHWk",
        "outputId": "3998d10f-15ff-4a4b-d850-4b400d818db1"
      },
      "execution_count": null,
      "outputs": [
        {
          "output_type": "execute_result",
          "data": {
            "text/html": [
              "\n",
              "  <div id=\"df-a2f71545-cdd7-43b4-9fe4-96209f141025\">\n",
              "    <div class=\"colab-df-container\">\n",
              "      <div>\n",
              "<style scoped>\n",
              "    .dataframe tbody tr th:only-of-type {\n",
              "        vertical-align: middle;\n",
              "    }\n",
              "\n",
              "    .dataframe tbody tr th {\n",
              "        vertical-align: top;\n",
              "    }\n",
              "\n",
              "    .dataframe thead th {\n",
              "        text-align: right;\n",
              "    }\n",
              "</style>\n",
              "<table border=\"1\" class=\"dataframe\">\n",
              "  <thead>\n",
              "    <tr style=\"text-align: right;\">\n",
              "      <th></th>\n",
              "      <th>text</th>\n",
              "      <th>label</th>\n",
              "      <th>clean_text</th>\n",
              "      <th>word_count</th>\n",
              "      <th>character_count</th>\n",
              "      <th>sentence_count</th>\n",
              "      <th>avg_word_length</th>\n",
              "      <th>avg_sentence_length</th>\n",
              "      <th>label_numeric</th>\n",
              "    </tr>\n",
              "  </thead>\n",
              "  <tbody>\n",
              "    <tr>\n",
              "      <th>879</th>\n",
              "      <td>His highestgrossing releases came with the comedydrama Lage Raho Munna Bhai the drama film My</td>\n",
              "      <td>en</td>\n",
              "      <td>highestgrossing releases came comedydrama lage raho munna bhai drama film</td>\n",
              "      <td>10</td>\n",
              "      <td>64</td>\n",
              "      <td>1</td>\n",
              "      <td>6.4</td>\n",
              "      <td>10.0</td>\n",
              "      <td>1</td>\n",
              "    </tr>\n",
              "    <tr>\n",
              "      <th>991</th>\n",
              "      <td>DeAngelis born October is a retired American professional basketball player who spent one season in</td>\n",
              "      <td>en</td>\n",
              "      <td>deangelis born october retired american professional basketball player spent one season</td>\n",
              "      <td>11</td>\n",
              "      <td>77</td>\n",
              "      <td>1</td>\n",
              "      <td>7.0</td>\n",
              "      <td>11.0</td>\n",
              "      <td>1</td>\n",
              "    </tr>\n",
              "  </tbody>\n",
              "</table>\n",
              "</div>\n",
              "      <button class=\"colab-df-convert\" onclick=\"convertToInteractive('df-a2f71545-cdd7-43b4-9fe4-96209f141025')\"\n",
              "              title=\"Convert this dataframe to an interactive table.\"\n",
              "              style=\"display:none;\">\n",
              "        \n",
              "  <svg xmlns=\"http://www.w3.org/2000/svg\" height=\"24px\"viewBox=\"0 0 24 24\"\n",
              "       width=\"24px\">\n",
              "    <path d=\"M0 0h24v24H0V0z\" fill=\"none\"/>\n",
              "    <path d=\"M18.56 5.44l.94 2.06.94-2.06 2.06-.94-2.06-.94-.94-2.06-.94 2.06-2.06.94zm-11 1L8.5 8.5l.94-2.06 2.06-.94-2.06-.94L8.5 2.5l-.94 2.06-2.06.94zm10 10l.94 2.06.94-2.06 2.06-.94-2.06-.94-.94-2.06-.94 2.06-2.06.94z\"/><path d=\"M17.41 7.96l-1.37-1.37c-.4-.4-.92-.59-1.43-.59-.52 0-1.04.2-1.43.59L10.3 9.45l-7.72 7.72c-.78.78-.78 2.05 0 2.83L4 21.41c.39.39.9.59 1.41.59.51 0 1.02-.2 1.41-.59l7.78-7.78 2.81-2.81c.8-.78.8-2.07 0-2.86zM5.41 20L4 18.59l7.72-7.72 1.47 1.35L5.41 20z\"/>\n",
              "  </svg>\n",
              "      </button>\n",
              "      \n",
              "  <style>\n",
              "    .colab-df-container {\n",
              "      display:flex;\n",
              "      flex-wrap:wrap;\n",
              "      gap: 12px;\n",
              "    }\n",
              "\n",
              "    .colab-df-convert {\n",
              "      background-color: #E8F0FE;\n",
              "      border: none;\n",
              "      border-radius: 50%;\n",
              "      cursor: pointer;\n",
              "      display: none;\n",
              "      fill: #1967D2;\n",
              "      height: 32px;\n",
              "      padding: 0 0 0 0;\n",
              "      width: 32px;\n",
              "    }\n",
              "\n",
              "    .colab-df-convert:hover {\n",
              "      background-color: #E2EBFA;\n",
              "      box-shadow: 0px 1px 2px rgba(60, 64, 67, 0.3), 0px 1px 3px 1px rgba(60, 64, 67, 0.15);\n",
              "      fill: #174EA6;\n",
              "    }\n",
              "\n",
              "    [theme=dark] .colab-df-convert {\n",
              "      background-color: #3B4455;\n",
              "      fill: #D2E3FC;\n",
              "    }\n",
              "\n",
              "    [theme=dark] .colab-df-convert:hover {\n",
              "      background-color: #434B5C;\n",
              "      box-shadow: 0px 1px 3px 1px rgba(0, 0, 0, 0.15);\n",
              "      filter: drop-shadow(0px 1px 2px rgba(0, 0, 0, 0.3));\n",
              "      fill: #FFFFFF;\n",
              "    }\n",
              "  </style>\n",
              "\n",
              "      <script>\n",
              "        const buttonEl =\n",
              "          document.querySelector('#df-a2f71545-cdd7-43b4-9fe4-96209f141025 button.colab-df-convert');\n",
              "        buttonEl.style.display =\n",
              "          google.colab.kernel.accessAllowed ? 'block' : 'none';\n",
              "\n",
              "        async function convertToInteractive(key) {\n",
              "          const element = document.querySelector('#df-a2f71545-cdd7-43b4-9fe4-96209f141025');\n",
              "          const dataTable =\n",
              "            await google.colab.kernel.invokeFunction('convertToInteractive',\n",
              "                                                     [key], {});\n",
              "          if (!dataTable) return;\n",
              "\n",
              "          const docLinkHtml = 'Like what you see? Visit the ' +\n",
              "            '<a target=\"_blank\" href=https://colab.research.google.com/notebooks/data_table.ipynb>data table notebook</a>'\n",
              "            + ' to learn more about interactive tables.';\n",
              "          element.innerHTML = '';\n",
              "          dataTable['output_type'] = 'display_data';\n",
              "          await google.colab.output.renderOutput(dataTable, element);\n",
              "          const docLink = document.createElement('div');\n",
              "          docLink.innerHTML = docLinkHtml;\n",
              "          element.appendChild(docLink);\n",
              "        }\n",
              "      </script>\n",
              "    </div>\n",
              "  </div>\n",
              "  "
            ],
            "text/plain": [
              "                                                                                                    text  \\\n",
              "879        His highestgrossing releases came with the comedydrama Lage Raho Munna Bhai the drama film My   \n",
              "991  DeAngelis born October is a retired American professional basketball player who spent one season in   \n",
              "\n",
              "    label  \\\n",
              "879    en   \n",
              "991    en   \n",
              "\n",
              "                                                                                  clean_text  \\\n",
              "879                highestgrossing releases came comedydrama lage raho munna bhai drama film   \n",
              "991  deangelis born october retired american professional basketball player spent one season   \n",
              "\n",
              "     word_count  character_count  sentence_count  avg_word_length  \\\n",
              "879          10               64               1              6.4   \n",
              "991          11               77               1              7.0   \n",
              "\n",
              "     avg_sentence_length  label_numeric  \n",
              "879                 10.0              1  \n",
              "991                 11.0              1  "
            ]
          },
          "metadata": {},
          "execution_count": 28
        }
      ]
    },
    {
      "cell_type": "code",
      "source": [
        "df_new = df.drop(['label'],axis =1)\n",
        "df_new.head(2)"
      ],
      "metadata": {
        "colab": {
          "base_uri": "https://localhost:8080/",
          "height": 294
        },
        "id": "v83W95TbVZbU",
        "outputId": "47c283dc-1e77-43a9-f32e-a95a5c1b04c8"
      },
      "execution_count": null,
      "outputs": [
        {
          "output_type": "execute_result",
          "data": {
            "text/html": [
              "\n",
              "  <div id=\"df-f5b1e6ed-f7a0-4f04-8d41-65181e3dddcc\">\n",
              "    <div class=\"colab-df-container\">\n",
              "      <div>\n",
              "<style scoped>\n",
              "    .dataframe tbody tr th:only-of-type {\n",
              "        vertical-align: middle;\n",
              "    }\n",
              "\n",
              "    .dataframe tbody tr th {\n",
              "        vertical-align: top;\n",
              "    }\n",
              "\n",
              "    .dataframe thead th {\n",
              "        text-align: right;\n",
              "    }\n",
              "</style>\n",
              "<table border=\"1\" class=\"dataframe\">\n",
              "  <thead>\n",
              "    <tr style=\"text-align: right;\">\n",
              "      <th></th>\n",
              "      <th>text</th>\n",
              "      <th>clean_text</th>\n",
              "      <th>word_count</th>\n",
              "      <th>character_count</th>\n",
              "      <th>sentence_count</th>\n",
              "      <th>avg_word_length</th>\n",
              "      <th>avg_sentence_length</th>\n",
              "      <th>label_numeric</th>\n",
              "    </tr>\n",
              "  </thead>\n",
              "  <tbody>\n",
              "    <tr>\n",
              "      <th>879</th>\n",
              "      <td>His highestgrossing releases came with the comedydrama Lage Raho Munna Bhai the drama film My</td>\n",
              "      <td>highestgrossing releases came comedydrama lage raho munna bhai drama film</td>\n",
              "      <td>10</td>\n",
              "      <td>64</td>\n",
              "      <td>1</td>\n",
              "      <td>6.4</td>\n",
              "      <td>10.0</td>\n",
              "      <td>1</td>\n",
              "    </tr>\n",
              "    <tr>\n",
              "      <th>991</th>\n",
              "      <td>DeAngelis born October is a retired American professional basketball player who spent one season in</td>\n",
              "      <td>deangelis born october retired american professional basketball player spent one season</td>\n",
              "      <td>11</td>\n",
              "      <td>77</td>\n",
              "      <td>1</td>\n",
              "      <td>7.0</td>\n",
              "      <td>11.0</td>\n",
              "      <td>1</td>\n",
              "    </tr>\n",
              "  </tbody>\n",
              "</table>\n",
              "</div>\n",
              "      <button class=\"colab-df-convert\" onclick=\"convertToInteractive('df-f5b1e6ed-f7a0-4f04-8d41-65181e3dddcc')\"\n",
              "              title=\"Convert this dataframe to an interactive table.\"\n",
              "              style=\"display:none;\">\n",
              "        \n",
              "  <svg xmlns=\"http://www.w3.org/2000/svg\" height=\"24px\"viewBox=\"0 0 24 24\"\n",
              "       width=\"24px\">\n",
              "    <path d=\"M0 0h24v24H0V0z\" fill=\"none\"/>\n",
              "    <path d=\"M18.56 5.44l.94 2.06.94-2.06 2.06-.94-2.06-.94-.94-2.06-.94 2.06-2.06.94zm-11 1L8.5 8.5l.94-2.06 2.06-.94-2.06-.94L8.5 2.5l-.94 2.06-2.06.94zm10 10l.94 2.06.94-2.06 2.06-.94-2.06-.94-.94-2.06-.94 2.06-2.06.94z\"/><path d=\"M17.41 7.96l-1.37-1.37c-.4-.4-.92-.59-1.43-.59-.52 0-1.04.2-1.43.59L10.3 9.45l-7.72 7.72c-.78.78-.78 2.05 0 2.83L4 21.41c.39.39.9.59 1.41.59.51 0 1.02-.2 1.41-.59l7.78-7.78 2.81-2.81c.8-.78.8-2.07 0-2.86zM5.41 20L4 18.59l7.72-7.72 1.47 1.35L5.41 20z\"/>\n",
              "  </svg>\n",
              "      </button>\n",
              "      \n",
              "  <style>\n",
              "    .colab-df-container {\n",
              "      display:flex;\n",
              "      flex-wrap:wrap;\n",
              "      gap: 12px;\n",
              "    }\n",
              "\n",
              "    .colab-df-convert {\n",
              "      background-color: #E8F0FE;\n",
              "      border: none;\n",
              "      border-radius: 50%;\n",
              "      cursor: pointer;\n",
              "      display: none;\n",
              "      fill: #1967D2;\n",
              "      height: 32px;\n",
              "      padding: 0 0 0 0;\n",
              "      width: 32px;\n",
              "    }\n",
              "\n",
              "    .colab-df-convert:hover {\n",
              "      background-color: #E2EBFA;\n",
              "      box-shadow: 0px 1px 2px rgba(60, 64, 67, 0.3), 0px 1px 3px 1px rgba(60, 64, 67, 0.15);\n",
              "      fill: #174EA6;\n",
              "    }\n",
              "\n",
              "    [theme=dark] .colab-df-convert {\n",
              "      background-color: #3B4455;\n",
              "      fill: #D2E3FC;\n",
              "    }\n",
              "\n",
              "    [theme=dark] .colab-df-convert:hover {\n",
              "      background-color: #434B5C;\n",
              "      box-shadow: 0px 1px 3px 1px rgba(0, 0, 0, 0.15);\n",
              "      filter: drop-shadow(0px 1px 2px rgba(0, 0, 0, 0.3));\n",
              "      fill: #FFFFFF;\n",
              "    }\n",
              "  </style>\n",
              "\n",
              "      <script>\n",
              "        const buttonEl =\n",
              "          document.querySelector('#df-f5b1e6ed-f7a0-4f04-8d41-65181e3dddcc button.colab-df-convert');\n",
              "        buttonEl.style.display =\n",
              "          google.colab.kernel.accessAllowed ? 'block' : 'none';\n",
              "\n",
              "        async function convertToInteractive(key) {\n",
              "          const element = document.querySelector('#df-f5b1e6ed-f7a0-4f04-8d41-65181e3dddcc');\n",
              "          const dataTable =\n",
              "            await google.colab.kernel.invokeFunction('convertToInteractive',\n",
              "                                                     [key], {});\n",
              "          if (!dataTable) return;\n",
              "\n",
              "          const docLinkHtml = 'Like what you see? Visit the ' +\n",
              "            '<a target=\"_blank\" href=https://colab.research.google.com/notebooks/data_table.ipynb>data table notebook</a>'\n",
              "            + ' to learn more about interactive tables.';\n",
              "          element.innerHTML = '';\n",
              "          dataTable['output_type'] = 'display_data';\n",
              "          await google.colab.output.renderOutput(dataTable, element);\n",
              "          const docLink = document.createElement('div');\n",
              "          docLink.innerHTML = docLinkHtml;\n",
              "          element.appendChild(docLink);\n",
              "        }\n",
              "      </script>\n",
              "    </div>\n",
              "  </div>\n",
              "  "
            ],
            "text/plain": [
              "                                                                                                    text  \\\n",
              "879        His highestgrossing releases came with the comedydrama Lage Raho Munna Bhai the drama film My   \n",
              "991  DeAngelis born October is a retired American professional basketball player who spent one season in   \n",
              "\n",
              "                                                                                  clean_text  \\\n",
              "879                highestgrossing releases came comedydrama lage raho munna bhai drama film   \n",
              "991  deangelis born october retired american professional basketball player spent one season   \n",
              "\n",
              "     word_count  character_count  sentence_count  avg_word_length  \\\n",
              "879          10               64               1              6.4   \n",
              "991          11               77               1              7.0   \n",
              "\n",
              "     avg_sentence_length  label_numeric  \n",
              "879                 10.0              1  \n",
              "991                 11.0              1  "
            ]
          },
          "metadata": {},
          "execution_count": 29
        }
      ]
    },
    {
      "cell_type": "code",
      "metadata": {
        "colab": {
          "base_uri": "https://localhost:8080/"
        },
        "outputId": "44734869-8b79-4bec-d74a-0a197eabe9c5",
        "id": "tz3EHFOrV5gi"
      },
      "source": [
        "# Let's prepare the constructed features for modeling\n",
        "# ---\n",
        "# We will select all variables but the target (which is the label) and text variables \n",
        "# ---\n",
        "#  \n",
        "X_metadata = np.array(df_new.iloc[:, 2:7])\n",
        "X_metadata"
      ],
      "execution_count": null,
      "outputs": [
        {
          "output_type": "execute_result",
          "data": {
            "text/plain": [
              "array([[10.        , 64.        ,  1.        ,  6.4       , 10.        ],\n",
              "       [11.        , 77.        ,  1.        ,  7.        , 11.        ],\n",
              "       [10.        , 54.        ,  1.        ,  5.4       , 10.        ],\n",
              "       ...,\n",
              "       [13.        , 78.        ,  1.        ,  6.        , 13.        ],\n",
              "       [15.        , 93.        ,  1.        ,  6.2       , 15.        ],\n",
              "       [15.        , 92.        ,  1.        ,  6.13333333, 15.        ]])"
            ]
          },
          "metadata": {},
          "execution_count": 30
        }
      ]
    },
    {
      "cell_type": "code",
      "source": [
        "tfidf = TfidfVectorizer(max_features=1000, lowercase=True, analyzer='word', ngram_range=(1,3),  stop_words= 'english')\n",
        "df_word_vect = tfidf.fit_transform(df_new['clean_text'])\n",
        "\n",
        "df_word_vect.toarray()"
      ],
      "metadata": {
        "colab": {
          "base_uri": "https://localhost:8080/"
        },
        "outputId": "f531eeb3-b88c-401f-a38d-30cb332d099c",
        "id": "LbKTPYBTV5gu"
      },
      "execution_count": null,
      "outputs": [
        {
          "output_type": "execute_result",
          "data": {
            "text/plain": [
              "array([[0.        , 0.        , 0.        , ..., 0.        , 0.        ,\n",
              "        0.        ],\n",
              "       [0.        , 0.        , 0.        , ..., 0.        , 0.        ,\n",
              "        0.        ],\n",
              "       [0.        , 0.        , 0.        , ..., 0.        , 0.        ,\n",
              "        0.        ],\n",
              "       ...,\n",
              "       [0.32547896, 0.        , 0.        , ..., 0.        , 0.        ,\n",
              "        0.        ],\n",
              "       [0.        , 0.        , 0.        , ..., 0.        , 0.        ,\n",
              "        0.        ],\n",
              "       [0.        , 0.        , 0.        , ..., 0.        , 0.        ,\n",
              "        0.        ]])"
            ]
          },
          "metadata": {},
          "execution_count": 31
        }
      ]
    },
    {
      "cell_type": "code",
      "source": [
        "tfidf = TfidfVectorizer(max_features=1000, lowercase=True, analyzer='char', ngram_range=(1,3),  stop_words= 'english')\n",
        "df_char_vect = tfidf.fit_transform(df_new['clean_text'])\n",
        "\n",
        "df_char_vect.toarray()"
      ],
      "metadata": {
        "colab": {
          "base_uri": "https://localhost:8080/"
        },
        "outputId": "f8229167-fc97-49f3-f192-124a406795e4",
        "id": "btSqrXW_V5gu"
      },
      "execution_count": null,
      "outputs": [
        {
          "output_type": "execute_result",
          "data": {
            "text/plain": [
              "array([[0.23342672, 0.        , 0.        , ..., 0.        , 0.        ,\n",
              "        0.        ],\n",
              "       [0.2205783 , 0.04047405, 0.        , ..., 0.        , 0.        ,\n",
              "        0.        ],\n",
              "       [0.25450784, 0.        , 0.        , ..., 0.        , 0.        ,\n",
              "        0.        ],\n",
              "       ...,\n",
              "       [0.27695334, 0.04234861, 0.08806903, ..., 0.        , 0.        ,\n",
              "        0.        ],\n",
              "       [0.25381971, 0.        , 0.        , ..., 0.06234199, 0.06638758,\n",
              "        0.        ],\n",
              "       [0.25362922, 0.        , 0.        , ..., 0.        , 0.        ,\n",
              "        0.        ]])"
            ]
          },
          "metadata": {},
          "execution_count": 32
        }
      ]
    },
    {
      "cell_type": "code",
      "metadata": {
        "colab": {
          "base_uri": "https://localhost:8080/"
        },
        "outputId": "6c29b60b-bb78-4614-b1d3-579fde42df75",
        "id": "8wBgjdGAV5gv"
      },
      "source": [
        "# We combine our two tfidf (sparse) matrices and X_metadata\n",
        "# ---\n",
        "#\n",
        "X = scipy.sparse.hstack([df_word_vect, df_char_vect,  X_metadata])\n",
        "X"
      ],
      "execution_count": null,
      "outputs": [
        {
          "output_type": "execute_result",
          "data": {
            "text/plain": [
              "<400x2005 sparse matrix of type '<class 'numpy.float64'>'\n",
              "\twith 52733 stored elements in COOrdinate format>"
            ]
          },
          "metadata": {},
          "execution_count": 33
        }
      ]
    },
    {
      "cell_type": "code",
      "source": [
        "# Getting our response variable\n",
        "# ---\n",
        "#\n",
        "y = np.array(df.iloc[:, 8])\n",
        "y"
      ],
      "metadata": {
        "colab": {
          "base_uri": "https://localhost:8080/"
        },
        "id": "V0Nx5DslXIvM",
        "outputId": "f0c34b8e-d86c-451b-87e4-70b07e144c94"
      },
      "execution_count": null,
      "outputs": [
        {
          "output_type": "execute_result",
          "data": {
            "text/plain": [
              "array([1, 1, 1, 1, 1, 1, 1, 1, 1, 1, 1, 1, 1, 1, 1, 1, 1, 1, 1, 1, 1, 1,\n",
              "       1, 1, 1, 1, 1, 1, 1, 1, 1, 1, 1, 1, 1, 1, 1, 1, 1, 1, 1, 1, 1, 1,\n",
              "       1, 1, 1, 1, 1, 1, 1, 1, 1, 1, 1, 1, 1, 1, 1, 1, 1, 1, 1, 1, 1, 1,\n",
              "       1, 1, 1, 1, 1, 1, 1, 1, 1, 1, 1, 1, 1, 1, 1, 1, 1, 1, 1, 1, 1, 1,\n",
              "       1, 1, 1, 1, 1, 1, 1, 1, 1, 1, 1, 1, 1, 1, 1, 1, 1, 1, 1, 1, 1, 1,\n",
              "       1, 1, 1, 1, 1, 1, 1, 1, 1, 1, 1, 1, 1, 1, 1, 1, 1, 1, 1, 1, 1, 1,\n",
              "       1, 1, 1, 1, 1, 1, 1, 1, 1, 1, 1, 1, 1, 1, 1, 1, 1, 1, 1, 1, 1, 1,\n",
              "       1, 1, 1, 1, 1, 1, 1, 1, 1, 1, 1, 1, 1, 1, 1, 1, 1, 1, 1, 1, 1, 1,\n",
              "       1, 1, 1, 1, 1, 1, 1, 1, 1, 1, 1, 1, 1, 1, 1, 1, 1, 1, 1, 1, 1, 1,\n",
              "       1, 1, 0, 0, 0, 0, 0, 0, 0, 0, 0, 0, 0, 0, 0, 0, 0, 0, 0, 0, 0, 0,\n",
              "       0, 0, 0, 0, 0, 0, 0, 0, 0, 0, 0, 0, 0, 0, 0, 0, 0, 0, 0, 0, 0, 0,\n",
              "       0, 0, 0, 0, 0, 0, 0, 0, 0, 0, 0, 0, 0, 0, 0, 0, 0, 0, 0, 0, 0, 0,\n",
              "       0, 0, 0, 0, 0, 0, 0, 0, 0, 0, 0, 0, 0, 0, 0, 0, 0, 0, 0, 0, 0, 0,\n",
              "       0, 0, 0, 0, 0, 0, 0, 0, 0, 0, 0, 0, 0, 0, 0, 0, 0, 0, 0, 0, 0, 0,\n",
              "       0, 0, 0, 0, 0, 0, 0, 0, 0, 0, 0, 0, 0, 0, 0, 0, 0, 0, 0, 0, 0, 0,\n",
              "       0, 0, 0, 0, 0, 0, 0, 0, 0, 0, 0, 0, 0, 0, 0, 0, 0, 0, 0, 0, 0, 0,\n",
              "       0, 0, 0, 0, 0, 0, 0, 0, 0, 0, 0, 0, 0, 0, 0, 0, 0, 0, 0, 0, 0, 0,\n",
              "       0, 0, 0, 0, 0, 0, 0, 0, 0, 0, 0, 0, 0, 0, 0, 0, 0, 0, 0, 0, 0, 0,\n",
              "       0, 0, 0, 0])"
            ]
          },
          "metadata": {},
          "execution_count": 34
        }
      ]
    },
    {
      "cell_type": "markdown",
      "metadata": {
        "id": "z58VpwHoasH_"
      },
      "source": [
        "##  <font color='#2F4F4F'>Step 5. Data Modeling</font>"
      ]
    },
    {
      "cell_type": "markdown",
      "metadata": {
        "id": "WKm33MJYasH_"
      },
      "source": [
        "We will carry out 10 types of classification analysis, namely:\n",
        "1.  Logistic Regression\n",
        "3.  Decision Trees Classification\n",
        "4.  Support Vector Machine (SVM) Classification\n",
        "5. K-Nearest Neighbors (KNN) Classification\n",
        "6.  Gaussian Naive Bayes (NB) Classification\n",
        "7.  BaggingClassifier\n",
        "8.  RandomForestClassifier\n",
        "9.  AdaBoostClassifier\n",
        "10. GradientBoostingClassifier\n",
        "\n",
        "We use their default parameters then compare the different classification models to assess the best performing one(s). "
      ]
    },
    {
      "cell_type": "code",
      "metadata": {
        "id": "kByQ2gGOasIN"
      },
      "source": [
        "# splitting into 80-20 train-test sets\n",
        "# ---\n",
        "#\n",
        "from sklearn.model_selection import train_test_split\n",
        "X_train, X_test, y_train, y_test = train_test_split(X, y, test_size=0.2, random_state=42)"
      ],
      "execution_count": null,
      "outputs": []
    },
    {
      "cell_type": "code",
      "metadata": {
        "id": "E3hBaXKTasIV",
        "colab": {
          "base_uri": "https://localhost:8080/"
        },
        "outputId": "16667885-b074-4846-945f-f21325f245c4"
      },
      "source": [
        "from seaborn import regression\n",
        "# loading our classification libraries\n",
        "\n",
        "# Logistic Regression\n",
        "from sklearn.linear_model import LogisticRegression\n",
        "\n",
        "# Decision Tree \n",
        "from sklearn.tree import DecisionTreeClassifier\n",
        "\n",
        "# Support Vector Machine\n",
        "from sklearn.svm import SVC\n",
        "\n",
        "# K-Neighbors\n",
        "from sklearn.neighbors import KNeighborsClassifier\n",
        "\n",
        "# Naive Bayes\n",
        "from sklearn.naive_bayes import GaussianNB\n",
        "\n",
        "# Bagging\n",
        "from sklearn.ensemble import BaggingClassifier\n",
        "\n",
        "# Random Forest\n",
        "from sklearn.ensemble import RandomForestClassifier\n",
        "\n",
        "# Ada Boosting\n",
        "from sklearn.ensemble import AdaBoostClassifier\n",
        "\n",
        "# Gradient Boosting\n",
        "from sklearn.ensemble import GradientBoostingClassifier\n",
        "\n",
        "#************************************************************************************************************\n",
        "# instantiating our classifiers\n",
        "\n",
        "# Logistic Regression\n",
        "lr =LogisticRegression()\n",
        "\n",
        "# Decision Tree \n",
        "dt_clf =DecisionTreeClassifier()\n",
        "\n",
        "# Support Vector Machine\n",
        "svm_clf = SVC()\n",
        "\n",
        "# K-Neighbors\n",
        "kn_clf = KNeighborsClassifier()\n",
        "\n",
        "# Naive Bayes\n",
        "gnb_clf = GaussianNB()\n",
        " \n",
        "# Bagging\n",
        "bg_clf = BaggingClassifier()\n",
        "\n",
        "# Random Forest\n",
        "rfc_clf = RandomForestClassifier()\n",
        "\n",
        "# Ada Boosting\n",
        "abc_clf = AdaBoostClassifier(n_estimators=100, random_state=0)\n",
        "\n",
        "# Gradient Boosting\n",
        "gbc_clf = GradientBoostingClassifier(n_estimators=100, learning_rate=1.0,max_depth=1, random_state=0)\n",
        "\n",
        "#*************************************************************************************************************************\n",
        "# fitting our classifiers to the training data\n",
        "\n",
        "# Logistic Regression\n",
        "lr.fit(X_train, y_train)\n",
        "\n",
        "# Decision Tree \n",
        "dt_clf.fit(X_train, y_train)\n",
        "\n",
        "# Support Vector Machine\n",
        "svm_clf.fit(X_train, y_train)\n",
        "\n",
        "# K-Neighbors\n",
        "kn_clf.fit(X_train, y_train)\n",
        "\n",
        "# # Naive Bayes\n",
        "# gnb_clf.fit(X_train, y_train)\n",
        "\n",
        "# Bagging\n",
        "bg_clf.fit(X_train, y_train)\n",
        "\n",
        "# Random Forest\n",
        "rfc_clf.fit(X_train, y_train)\n",
        "\n",
        "# Ada Boosting\n",
        "abc_clf.fit(X_train, y_train)\n",
        "\n",
        "# Gradient Boosting\n",
        "gbc_clf.fit(X_train, y_train)\n",
        "\n",
        "#**************************************************************************\n",
        "# making predictions\n",
        "\n",
        "# Logistic Regression\n",
        "lr_preds = lr.predict(X_test)\n",
        "\n",
        "# Decision Tree \n",
        "dt_preds = dt_clf.predict(X_test)\n",
        "\n",
        "# Support Vector Machine\n",
        "svm_clf_preds = svm_clf.predict(X_test)\n",
        "\n",
        "# K-Neighbors\n",
        "kn_clf_preds = kn_clf.predict(X_test)\n",
        "\n",
        "# #Naive Bayes\n",
        "# gnb_preds = gnb_clf.predict(X_test)\n",
        "\n",
        "# Bagging\n",
        "bg_clf_predictions = bg_clf.predict(X_test)\n",
        "\n",
        "# Random Forest\n",
        "rfc_clf_preds = rfc_clf.predict(X_test)\n",
        "\n",
        "# Ada Boosting\n",
        "abc_clf_preds = abc_clf.predict(X_test)\n",
        "\n",
        "# Gradient Boosting\n",
        "gbc_clf_preds = gbc_clf.predict(X_test)\n"
      ],
      "execution_count": null,
      "outputs": [
        {
          "output_type": "stream",
          "name": "stderr",
          "text": [
            "/usr/local/lib/python3.7/dist-packages/sklearn/linear_model/_logistic.py:818: ConvergenceWarning: lbfgs failed to converge (status=1):\n",
            "STOP: TOTAL NO. of ITERATIONS REACHED LIMIT.\n",
            "\n",
            "Increase the number of iterations (max_iter) or scale the data as shown in:\n",
            "    https://scikit-learn.org/stable/modules/preprocessing.html\n",
            "Please also refer to the documentation for alternative solver options:\n",
            "    https://scikit-learn.org/stable/modules/linear_model.html#logistic-regression\n",
            "  extra_warning_msg=_LOGISTIC_SOLVER_CONVERGENCE_MSG,\n"
          ]
        }
      ]
    },
    {
      "cell_type": "code",
      "metadata": {
        "id": "KfXCA87-asIf",
        "colab": {
          "base_uri": "https://localhost:8080/"
        },
        "outputId": "1cd5da57-aca9-4f30-cb08-d5c9b0f43da5"
      },
      "source": [
        "# Evaluating the Models\n",
        "# Accuracy scores\n",
        "\n",
        "\n",
        "lr_accuracy = accuracy_score(y_test , lr_preds)\n",
        "print(\"Logistic Regression Accuracy: {:.4%}\".format(lr_accuracy))\n",
        "\n",
        "dt_accuracy = accuracy_score(y_test , dt_preds)\n",
        "print(\"Decision Tree Classifier Accuracy: {:.4%}\".format(dt_accuracy))\n",
        "\n",
        "svm_clf_accuracy = accuracy_score(y_test ,svm_clf_preds )\n",
        "print(\"SVM Accuracy: {:.4%}\".format(svm_clf_accuracy))\n",
        "\n",
        "kn_clf_accuracy = accuracy_score(y_test , kn_clf_preds)\n",
        "print(\"KNeighbors Classifier Accuracy: {:.4%}\".format(kn_clf_accuracy))\n",
        "\n",
        "bg_clf_accuracy = accuracy_score(y_test , bg_clf_predictions)\n",
        "print(\"Bagging Classifier Accuracy: {:.4%}\".format(bg_clf_accuracy))\n",
        "\n",
        "\n",
        "rfc_clf_accuracy = accuracy_score(y_test , rfc_clf_preds)\n",
        "print(\"Random Forest Classifier Accuracy: {:.4%}\".format(rfc_clf_accuracy))\n",
        "\n",
        "abc_clf_accuracy = accuracy_score(y_test , abc_clf_preds)\n",
        "print(\"AdaBoost Classifier Accuracy: {:.4%}\".format(abc_clf_accuracy))\n",
        "\n",
        "gbc_clf_accuracy = accuracy_score(y_test , gbc_clf_preds)\n",
        "print(\"Gradient Boosting Classifier Accuracy: {:.4%}\".format(gbc_clf_accuracy))\n",
        "\n"
      ],
      "execution_count": null,
      "outputs": [
        {
          "output_type": "stream",
          "name": "stdout",
          "text": [
            "Logistic Regression Accuracy: 97.5000%\n",
            "Decision Tree Classifier Accuracy: 92.5000%\n",
            "SVM Accuracy: 88.7500%\n",
            "KNeighbors Classifier Accuracy: 91.2500%\n",
            "Bagging Classifier Accuracy: 93.7500%\n",
            "Random Forest Classifier Accuracy: 98.7500%\n",
            "AdaBoost Classifier Accuracy: 100.0000%\n",
            "Gradient Boosting Classifier Accuracy: 100.0000%\n"
          ]
        }
      ]
    },
    {
      "cell_type": "markdown",
      "metadata": {
        "id": "MZ0H_nXpo-lK"
      },
      "source": [
        "Your observation about the performance of the models..."
      ]
    },
    {
      "cell_type": "code",
      "metadata": {
        "id": "OyF5hh38pu5F",
        "colab": {
          "base_uri": "https://localhost:8080/"
        },
        "outputId": "f8c52866-d4e8-436a-dbd9-a995baeda2da"
      },
      "source": [
        "# Confusion matrices\n",
        "\n",
        "#import libraries\n",
        "from sklearn.metrics import confusion_matrix\n",
        "\n",
        "# evaluating the classification reports and confusion matrices of each classifier\n",
        "from sklearn.metrics import classification_report, confusion_matrix\n",
        "from sklearn.metrics import classification_report, accuracy_score \n",
        "\n",
        "# Logistic Regression\n",
        "print('Logistic classifier:')\n",
        "print(confusion_matrix(lr_preds, y_test))\n",
        "\n",
        "# # Decision Tree\n",
        "print('Decision Tree Classifier:')\n",
        "print(confusion_matrix(dt_preds, y_test))\n",
        "\n",
        "# # SVM\n",
        "print('SVM:')\n",
        "print(confusion_matrix(svm_clf_preds, y_test))\n",
        "\n",
        "# # K-Neighbors\n",
        "print('K-Neighbors Classifier:')\n",
        "print(confusion_matrix(kn_clf_preds, y_test))\n",
        "\n",
        "# # Bagging\n",
        "print('Bagging Classifier:')\n",
        "print(confusion_matrix(bg_clf_predictions, y_test))\n",
        "\n",
        "# # Random Forest\n",
        "print('Random Forest Classifier:')\n",
        "print(confusion_matrix(rfc_clf_preds, y_test))\n",
        "\n",
        "# # Ada Boosting\n",
        "print('Ada Boosting Classifier:')\n",
        "print(confusion_matrix(abc_clf_preds, y_test))\n",
        "\n",
        "# # Gradient Boosting\n",
        "print('Gradient Boosting Classifier:')\n",
        "print(confusion_matrix(gbc_clf_preds, y_test))\n",
        "\n"
      ],
      "execution_count": null,
      "outputs": [
        {
          "output_type": "stream",
          "name": "stdout",
          "text": [
            "Logistic classifier:\n",
            "[[35  1]\n",
            " [ 1 43]]\n",
            "Decision Tree Classifier:\n",
            "[[33  3]\n",
            " [ 3 41]]\n",
            "SVM:\n",
            "[[35  8]\n",
            " [ 1 36]]\n",
            "K-Neighbors Classifier:\n",
            "[[34  5]\n",
            " [ 2 39]]\n",
            "Bagging Classifier:\n",
            "[[35  4]\n",
            " [ 1 40]]\n",
            "Random Forest Classifier:\n",
            "[[36  1]\n",
            " [ 0 43]]\n",
            "Ada Boosting Classifier:\n",
            "[[36  0]\n",
            " [ 0 44]]\n",
            "Gradient Boosting Classifier:\n",
            "[[36  0]\n",
            " [ 0 44]]\n"
          ]
        }
      ]
    },
    {
      "cell_type": "markdown",
      "metadata": {
        "id": "FqsjX_Nqiav0"
      },
      "source": [
        "Your observation about the performance of the models..."
      ]
    },
    {
      "cell_type": "code",
      "metadata": {
        "id": "TBJJqpvjp_Nl",
        "colab": {
          "base_uri": "https://localhost:8080/"
        },
        "outputId": "6eb1cfe3-ee44-4666-efad-077d02df82a6"
      },
      "source": [
        "# Classification Reports\n",
        "#import libraries\n",
        "from sklearn.metrics import classification_report\n",
        "\n",
        "# evaluating the classification reports and confusion matrices of each classifier\n",
        "from sklearn.metrics import classification_report, confusion_matrix\n",
        "from sklearn.metrics import classification_report, accuracy_score \n",
        "\n",
        "# Logistic Regression\n",
        "print('Logistic classifier:')\n",
        "print(classification_report(lr_preds, y_test))\n",
        "\n",
        "# # Decision Tree\n",
        "print('Decision Tree Classifier:')\n",
        "print(classification_report(dt_preds, y_test))\n",
        "\n",
        "# # SVM\n",
        "print('SVM:')\n",
        "print(classification_report(svm_clf_preds, y_test))\n",
        "\n",
        "# # K-Neighbors\n",
        "print('K-Neighbors Classifier:')\n",
        "print(classification_report(kn_clf_preds, y_test))\n",
        "\n",
        "# # Bagging\n",
        "print('Bagging Classifier:')\n",
        "print(classification_report(bg_clf_predictions, y_test))\n",
        "\n",
        "# # Random Forest\n",
        "print('Random Forest Classifier:')\n",
        "print(classification_report(rfc_clf_preds, y_test))\n",
        "\n",
        "# # Ada Boosting\n",
        "print('Ada Boosting Classifier:')\n",
        "print(classification_report(abc_clf_preds, y_test))\n",
        "\n",
        "# # Gradient Boosting\n",
        "print('Gradient Boosting Classifier:')\n",
        "print(classification_report(gbc_clf_preds, y_test))\n",
        "\n"
      ],
      "execution_count": null,
      "outputs": [
        {
          "output_type": "stream",
          "name": "stdout",
          "text": [
            "Logistic classifier:\n",
            "              precision    recall  f1-score   support\n",
            "\n",
            "           0       0.97      0.97      0.97        36\n",
            "           1       0.98      0.98      0.98        44\n",
            "\n",
            "    accuracy                           0.97        80\n",
            "   macro avg       0.97      0.97      0.97        80\n",
            "weighted avg       0.97      0.97      0.97        80\n",
            "\n",
            "Decision Tree Classifier:\n",
            "              precision    recall  f1-score   support\n",
            "\n",
            "           0       0.92      0.92      0.92        36\n",
            "           1       0.93      0.93      0.93        44\n",
            "\n",
            "    accuracy                           0.93        80\n",
            "   macro avg       0.92      0.92      0.92        80\n",
            "weighted avg       0.93      0.93      0.93        80\n",
            "\n",
            "SVM:\n",
            "              precision    recall  f1-score   support\n",
            "\n",
            "           0       0.97      0.81      0.89        43\n",
            "           1       0.82      0.97      0.89        37\n",
            "\n",
            "    accuracy                           0.89        80\n",
            "   macro avg       0.90      0.89      0.89        80\n",
            "weighted avg       0.90      0.89      0.89        80\n",
            "\n",
            "K-Neighbors Classifier:\n",
            "              precision    recall  f1-score   support\n",
            "\n",
            "           0       0.94      0.87      0.91        39\n",
            "           1       0.89      0.95      0.92        41\n",
            "\n",
            "    accuracy                           0.91        80\n",
            "   macro avg       0.92      0.91      0.91        80\n",
            "weighted avg       0.91      0.91      0.91        80\n",
            "\n",
            "Bagging Classifier:\n",
            "              precision    recall  f1-score   support\n",
            "\n",
            "           0       0.97      0.90      0.93        39\n",
            "           1       0.91      0.98      0.94        41\n",
            "\n",
            "    accuracy                           0.94        80\n",
            "   macro avg       0.94      0.94      0.94        80\n",
            "weighted avg       0.94      0.94      0.94        80\n",
            "\n",
            "Random Forest Classifier:\n",
            "              precision    recall  f1-score   support\n",
            "\n",
            "           0       1.00      0.97      0.99        37\n",
            "           1       0.98      1.00      0.99        43\n",
            "\n",
            "    accuracy                           0.99        80\n",
            "   macro avg       0.99      0.99      0.99        80\n",
            "weighted avg       0.99      0.99      0.99        80\n",
            "\n",
            "Ada Boosting Classifier:\n",
            "              precision    recall  f1-score   support\n",
            "\n",
            "           0       1.00      1.00      1.00        36\n",
            "           1       1.00      1.00      1.00        44\n",
            "\n",
            "    accuracy                           1.00        80\n",
            "   macro avg       1.00      1.00      1.00        80\n",
            "weighted avg       1.00      1.00      1.00        80\n",
            "\n",
            "Gradient Boosting Classifier:\n",
            "              precision    recall  f1-score   support\n",
            "\n",
            "           0       1.00      1.00      1.00        36\n",
            "           1       1.00      1.00      1.00        44\n",
            "\n",
            "    accuracy                           1.00        80\n",
            "   macro avg       1.00      1.00      1.00        80\n",
            "weighted avg       1.00      1.00      1.00        80\n",
            "\n"
          ]
        }
      ]
    },
    {
      "cell_type": "markdown",
      "metadata": {
        "id": "jA28XDA03Q9-"
      },
      "source": [
        "## <font color='#2F4F4F'>Step 6. Summary of Findings and Recommendation</font>"
      ]
    },
    {
      "cell_type": "markdown",
      "metadata": {
        "id": "ASVijr_e3WF2"
      },
      "source": [
        "Using the above F1 scores to compare classifier models: we make the below conclusions:\n",
        "\n",
        "1. the classifiers achieved a low score with the lowest score from SVM .\n",
        "\n",
        "2. The boosting algorithms combined a number of weak learners to form a strong learner.Thus, each boosting classifier model actually boosted the performance of the ensemble. the F1 score of the 2 algorithms used(Ada Boosting and Gradient Boosting)was 1\n",
        "\n",
        "3. the bagging classifiers also contributed to better model performance. the F1 score was .93 and .99 in both Bagging Classifier and Random Forest Classifier respectively.\n",
        "\n",
        "Recommendations:\n",
        "\n",
        "the boosting ensemble methods reduce the variances which increases the model accuracy, and therefore they should be used for predictions in similar text classification cases.\n"
      ]
    },
    {
      "cell_type": "markdown",
      "metadata": {
        "id": "qI23jTyh5XDU"
      },
      "source": [
        "## <font color='#2F4F4F'>Step 7. Challenging our Solution</font>"
      ]
    },
    {
      "cell_type": "markdown",
      "metadata": {
        "id": "H6HR28mq6mg5"
      },
      "source": [
        "### a) Did we have the right question?\n",
        "Yes\n",
        "\n",
        "### b) Did we have the right data?\n",
        "yes\n",
        "\n",
        "### c) What can be done to improve the solution? \n",
        "do similar cleaning for the dutch texts. we only used one language for the stop words - english. "
      ]
    }
  ]
}